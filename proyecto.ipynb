{
  "nbformat": 4,
  "nbformat_minor": 0,
  "metadata": {
    "colab": {
      "name": "Proyecto-Bedu",
      "provenance": [],
      "collapsed_sections": []
    },
    "kernelspec": {
      "name": "python3",
      "display_name": "Python 3"
    },
    "language_info": {
      "name": "python"
    }
  },
  "cells": [
    {
      "cell_type": "markdown",
      "metadata": {
        "id": "tfcbC5Za-bQC"
      },
      "source": [
        "#Clasificador de piezas pintadas según la cantidad de material que se le aplica"
      ]
    },
    {
      "cell_type": "code",
      "metadata": {
        "id": "VDRvbyRG-hAT"
      },
      "source": [
        "import pandas as pd\n",
        "from sklearn.model_selection import train_test_split\n",
        "import matplotlib.pyplot as plt\n",
        "import numpy as np\n",
        "import seaborn as sns\n",
        "from sklearn.linear_model import LogisticRegression\n",
        "from sklearn.ensemble import RandomForestClassifier\n",
        "from sklearn import metrics"
      ],
      "execution_count": null,
      "outputs": []
    },
    {
      "cell_type": "markdown",
      "metadata": {
        "id": "Nw-aOuaB4VtS"
      },
      "source": [
        "Todas las piezas"
      ]
    },
    {
      "cell_type": "code",
      "metadata": {
        "id": "U7sm16wz-wue"
      },
      "source": [
        "df = pd.read_csv('https://raw.githubusercontent.com/MiguelCorona55/Proyecto-Machine-Learning/main/evaluacion.csv')"
      ],
      "execution_count": null,
      "outputs": []
    },
    {
      "cell_type": "code",
      "metadata": {
        "colab": {
          "base_uri": "https://localhost:8080/",
          "height": 394
        },
        "id": "hl1Qpe3N_xoU",
        "outputId": "39b30245-5e8e-4c49-fa8c-37442feb7c62"
      },
      "source": [
        "df.head()"
      ],
      "execution_count": null,
      "outputs": [
        {
          "output_type": "execute_result",
          "data": {
            "text/html": [
              "<div>\n",
              "<style scoped>\n",
              "    .dataframe tbody tr th:only-of-type {\n",
              "        vertical-align: middle;\n",
              "    }\n",
              "\n",
              "    .dataframe tbody tr th {\n",
              "        vertical-align: top;\n",
              "    }\n",
              "\n",
              "    .dataframe thead th {\n",
              "        text-align: right;\n",
              "    }\n",
              "</style>\n",
              "<table border=\"1\" class=\"dataframe\">\n",
              "  <thead>\n",
              "    <tr style=\"text-align: right;\">\n",
              "      <th></th>\n",
              "      <th>Color_ID</th>\n",
              "      <th>Fecha</th>\n",
              "      <th>Label_ID</th>\n",
              "      <th>Skid</th>\n",
              "      <th>Job_ID</th>\n",
              "      <th>Product_ID</th>\n",
              "      <th>Primer_ID</th>\n",
              "      <th>Clear_ID</th>\n",
              "      <th>Resin_R1_PR</th>\n",
              "      <th>Resin_R2_PR</th>\n",
              "      <th>Hardener_R1_PR</th>\n",
              "      <th>Hardener_R2_PR</th>\n",
              "      <th>Resin_R1_BC</th>\n",
              "      <th>Resin_R2_BC</th>\n",
              "      <th>Resin_R3_BC</th>\n",
              "      <th>Resin_R4_BC</th>\n",
              "      <th>Resin_R5_BC</th>\n",
              "      <th>Resin_R6_BC</th>\n",
              "      <th>Resin_R1_CC</th>\n",
              "      <th>Resin_R2_CC</th>\n",
              "      <th>Resin_R3_CC</th>\n",
              "      <th>Resin_R4_CC</th>\n",
              "      <th>Hardener_R1_CC</th>\n",
              "      <th>Hardener_R2_CC</th>\n",
              "      <th>Hardener_R3_CC</th>\n",
              "      <th>Hardener_R4_CC</th>\n",
              "      <th>CO21</th>\n",
              "      <th>CO22</th>\n",
              "      <th>Week</th>\n",
              "      <th>Year</th>\n",
              "      <th>JobName</th>\n",
              "      <th>ColorName</th>\n",
              "      <th>Evaluacion</th>\n",
              "    </tr>\n",
              "  </thead>\n",
              "  <tbody>\n",
              "    <tr>\n",
              "      <th>0</th>\n",
              "      <td>1</td>\n",
              "      <td>2021-02-02 18:31:37</td>\n",
              "      <td>1648530</td>\n",
              "      <td>34</td>\n",
              "      <td>29</td>\n",
              "      <td>590</td>\n",
              "      <td>1</td>\n",
              "      <td>1</td>\n",
              "      <td>229</td>\n",
              "      <td>229</td>\n",
              "      <td>22</td>\n",
              "      <td>22</td>\n",
              "      <td>134</td>\n",
              "      <td>132</td>\n",
              "      <td>131</td>\n",
              "      <td>137</td>\n",
              "      <td>176</td>\n",
              "      <td>171</td>\n",
              "      <td>110</td>\n",
              "      <td>106</td>\n",
              "      <td>102</td>\n",
              "      <td>107</td>\n",
              "      <td>49</td>\n",
              "      <td>49</td>\n",
              "      <td>49</td>\n",
              "      <td>49</td>\n",
              "      <td>27</td>\n",
              "      <td>30</td>\n",
              "      <td>5</td>\n",
              "      <td>2021</td>\n",
              "      <td>Difusor Tiguan</td>\n",
              "      <td>A1 Black Bic</td>\n",
              "      <td>0</td>\n",
              "    </tr>\n",
              "    <tr>\n",
              "      <th>1</th>\n",
              "      <td>1</td>\n",
              "      <td>2021-01-19 02:46:09</td>\n",
              "      <td>1632703</td>\n",
              "      <td>150</td>\n",
              "      <td>29</td>\n",
              "      <td>590</td>\n",
              "      <td>1</td>\n",
              "      <td>1</td>\n",
              "      <td>230</td>\n",
              "      <td>230</td>\n",
              "      <td>22</td>\n",
              "      <td>22</td>\n",
              "      <td>135</td>\n",
              "      <td>133</td>\n",
              "      <td>130</td>\n",
              "      <td>136</td>\n",
              "      <td>174</td>\n",
              "      <td>172</td>\n",
              "      <td>108</td>\n",
              "      <td>107</td>\n",
              "      <td>102</td>\n",
              "      <td>108</td>\n",
              "      <td>49</td>\n",
              "      <td>49</td>\n",
              "      <td>49</td>\n",
              "      <td>49</td>\n",
              "      <td>34</td>\n",
              "      <td>40</td>\n",
              "      <td>3</td>\n",
              "      <td>2021</td>\n",
              "      <td>Difusor Tiguan</td>\n",
              "      <td>A1 Black Bic</td>\n",
              "      <td>0</td>\n",
              "    </tr>\n",
              "    <tr>\n",
              "      <th>2</th>\n",
              "      <td>1</td>\n",
              "      <td>2021-01-25 20:31:44</td>\n",
              "      <td>1642661</td>\n",
              "      <td>189</td>\n",
              "      <td>29</td>\n",
              "      <td>590</td>\n",
              "      <td>1</td>\n",
              "      <td>1</td>\n",
              "      <td>228</td>\n",
              "      <td>231</td>\n",
              "      <td>22</td>\n",
              "      <td>22</td>\n",
              "      <td>134</td>\n",
              "      <td>132</td>\n",
              "      <td>131</td>\n",
              "      <td>137</td>\n",
              "      <td>176</td>\n",
              "      <td>174</td>\n",
              "      <td>110</td>\n",
              "      <td>107</td>\n",
              "      <td>102</td>\n",
              "      <td>108</td>\n",
              "      <td>49</td>\n",
              "      <td>49</td>\n",
              "      <td>49</td>\n",
              "      <td>49</td>\n",
              "      <td>27</td>\n",
              "      <td>30</td>\n",
              "      <td>4</td>\n",
              "      <td>2021</td>\n",
              "      <td>Difusor Tiguan</td>\n",
              "      <td>A1 Black Bic</td>\n",
              "      <td>0</td>\n",
              "    </tr>\n",
              "    <tr>\n",
              "      <th>3</th>\n",
              "      <td>1</td>\n",
              "      <td>2021-01-12 17:24:45</td>\n",
              "      <td>1626972</td>\n",
              "      <td>78</td>\n",
              "      <td>29</td>\n",
              "      <td>590</td>\n",
              "      <td>1</td>\n",
              "      <td>1</td>\n",
              "      <td>229</td>\n",
              "      <td>232</td>\n",
              "      <td>22</td>\n",
              "      <td>22</td>\n",
              "      <td>134</td>\n",
              "      <td>132</td>\n",
              "      <td>131</td>\n",
              "      <td>137</td>\n",
              "      <td>176</td>\n",
              "      <td>172</td>\n",
              "      <td>109</td>\n",
              "      <td>107</td>\n",
              "      <td>101</td>\n",
              "      <td>107</td>\n",
              "      <td>49</td>\n",
              "      <td>49</td>\n",
              "      <td>49</td>\n",
              "      <td>49</td>\n",
              "      <td>26</td>\n",
              "      <td>27</td>\n",
              "      <td>2</td>\n",
              "      <td>2021</td>\n",
              "      <td>Difusor Tiguan</td>\n",
              "      <td>A1 Black Bic</td>\n",
              "      <td>0</td>\n",
              "    </tr>\n",
              "    <tr>\n",
              "      <th>4</th>\n",
              "      <td>1</td>\n",
              "      <td>2021-01-13 00:41:23</td>\n",
              "      <td>1627305</td>\n",
              "      <td>149</td>\n",
              "      <td>29</td>\n",
              "      <td>590</td>\n",
              "      <td>1</td>\n",
              "      <td>1</td>\n",
              "      <td>228</td>\n",
              "      <td>228</td>\n",
              "      <td>22</td>\n",
              "      <td>22</td>\n",
              "      <td>135</td>\n",
              "      <td>132</td>\n",
              "      <td>131</td>\n",
              "      <td>136</td>\n",
              "      <td>175</td>\n",
              "      <td>173</td>\n",
              "      <td>107</td>\n",
              "      <td>107</td>\n",
              "      <td>103</td>\n",
              "      <td>107</td>\n",
              "      <td>49</td>\n",
              "      <td>49</td>\n",
              "      <td>46</td>\n",
              "      <td>49</td>\n",
              "      <td>29</td>\n",
              "      <td>31</td>\n",
              "      <td>2</td>\n",
              "      <td>2021</td>\n",
              "      <td>Difusor Tiguan</td>\n",
              "      <td>A1 Black Bic</td>\n",
              "      <td>0</td>\n",
              "    </tr>\n",
              "  </tbody>\n",
              "</table>\n",
              "</div>"
            ],
            "text/plain": [
              "   Color_ID                Fecha  ...     ColorName  Evaluacion\n",
              "0         1  2021-02-02 18:31:37  ...  A1 Black Bic           0\n",
              "1         1  2021-01-19 02:46:09  ...  A1 Black Bic           0\n",
              "2         1  2021-01-25 20:31:44  ...  A1 Black Bic           0\n",
              "3         1  2021-01-12 17:24:45  ...  A1 Black Bic           0\n",
              "4         1  2021-01-13 00:41:23  ...  A1 Black Bic           0\n",
              "\n",
              "[5 rows x 33 columns]"
            ]
          },
          "metadata": {
            "tags": []
          },
          "execution_count": 108
        }
      ]
    },
    {
      "cell_type": "code",
      "metadata": {
        "id": "yH1hpvca_7UM"
      },
      "source": [
        "df_robots = df.loc[:,'Resin_R1_PR':'CO22']"
      ],
      "execution_count": null,
      "outputs": []
    },
    {
      "cell_type": "code",
      "metadata": {
        "id": "dN1zj9guAQFM"
      },
      "source": [
        "df_robots['Evaluacion'] = df['Evaluacion']"
      ],
      "execution_count": null,
      "outputs": []
    },
    {
      "cell_type": "code",
      "metadata": {
        "colab": {
          "base_uri": "https://localhost:8080/",
          "height": 224
        },
        "id": "lAh97Ba2AYqn",
        "outputId": "8ed4d90e-8798-4e1c-be23-561db08292ce"
      },
      "source": [
        "df_robots.head()"
      ],
      "execution_count": null,
      "outputs": [
        {
          "output_type": "execute_result",
          "data": {
            "text/html": [
              "<div>\n",
              "<style scoped>\n",
              "    .dataframe tbody tr th:only-of-type {\n",
              "        vertical-align: middle;\n",
              "    }\n",
              "\n",
              "    .dataframe tbody tr th {\n",
              "        vertical-align: top;\n",
              "    }\n",
              "\n",
              "    .dataframe thead th {\n",
              "        text-align: right;\n",
              "    }\n",
              "</style>\n",
              "<table border=\"1\" class=\"dataframe\">\n",
              "  <thead>\n",
              "    <tr style=\"text-align: right;\">\n",
              "      <th></th>\n",
              "      <th>Resin_R1_PR</th>\n",
              "      <th>Resin_R2_PR</th>\n",
              "      <th>Hardener_R1_PR</th>\n",
              "      <th>Hardener_R2_PR</th>\n",
              "      <th>Resin_R1_BC</th>\n",
              "      <th>Resin_R2_BC</th>\n",
              "      <th>Resin_R3_BC</th>\n",
              "      <th>Resin_R4_BC</th>\n",
              "      <th>Resin_R5_BC</th>\n",
              "      <th>Resin_R6_BC</th>\n",
              "      <th>Resin_R1_CC</th>\n",
              "      <th>Resin_R2_CC</th>\n",
              "      <th>Resin_R3_CC</th>\n",
              "      <th>Resin_R4_CC</th>\n",
              "      <th>Hardener_R1_CC</th>\n",
              "      <th>Hardener_R2_CC</th>\n",
              "      <th>Hardener_R3_CC</th>\n",
              "      <th>Hardener_R4_CC</th>\n",
              "      <th>CO21</th>\n",
              "      <th>CO22</th>\n",
              "      <th>Evaluacion</th>\n",
              "    </tr>\n",
              "  </thead>\n",
              "  <tbody>\n",
              "    <tr>\n",
              "      <th>0</th>\n",
              "      <td>229</td>\n",
              "      <td>229</td>\n",
              "      <td>22</td>\n",
              "      <td>22</td>\n",
              "      <td>134</td>\n",
              "      <td>132</td>\n",
              "      <td>131</td>\n",
              "      <td>137</td>\n",
              "      <td>176</td>\n",
              "      <td>171</td>\n",
              "      <td>110</td>\n",
              "      <td>106</td>\n",
              "      <td>102</td>\n",
              "      <td>107</td>\n",
              "      <td>49</td>\n",
              "      <td>49</td>\n",
              "      <td>49</td>\n",
              "      <td>49</td>\n",
              "      <td>27</td>\n",
              "      <td>30</td>\n",
              "      <td>0</td>\n",
              "    </tr>\n",
              "    <tr>\n",
              "      <th>1</th>\n",
              "      <td>230</td>\n",
              "      <td>230</td>\n",
              "      <td>22</td>\n",
              "      <td>22</td>\n",
              "      <td>135</td>\n",
              "      <td>133</td>\n",
              "      <td>130</td>\n",
              "      <td>136</td>\n",
              "      <td>174</td>\n",
              "      <td>172</td>\n",
              "      <td>108</td>\n",
              "      <td>107</td>\n",
              "      <td>102</td>\n",
              "      <td>108</td>\n",
              "      <td>49</td>\n",
              "      <td>49</td>\n",
              "      <td>49</td>\n",
              "      <td>49</td>\n",
              "      <td>34</td>\n",
              "      <td>40</td>\n",
              "      <td>0</td>\n",
              "    </tr>\n",
              "    <tr>\n",
              "      <th>2</th>\n",
              "      <td>228</td>\n",
              "      <td>231</td>\n",
              "      <td>22</td>\n",
              "      <td>22</td>\n",
              "      <td>134</td>\n",
              "      <td>132</td>\n",
              "      <td>131</td>\n",
              "      <td>137</td>\n",
              "      <td>176</td>\n",
              "      <td>174</td>\n",
              "      <td>110</td>\n",
              "      <td>107</td>\n",
              "      <td>102</td>\n",
              "      <td>108</td>\n",
              "      <td>49</td>\n",
              "      <td>49</td>\n",
              "      <td>49</td>\n",
              "      <td>49</td>\n",
              "      <td>27</td>\n",
              "      <td>30</td>\n",
              "      <td>0</td>\n",
              "    </tr>\n",
              "    <tr>\n",
              "      <th>3</th>\n",
              "      <td>229</td>\n",
              "      <td>232</td>\n",
              "      <td>22</td>\n",
              "      <td>22</td>\n",
              "      <td>134</td>\n",
              "      <td>132</td>\n",
              "      <td>131</td>\n",
              "      <td>137</td>\n",
              "      <td>176</td>\n",
              "      <td>172</td>\n",
              "      <td>109</td>\n",
              "      <td>107</td>\n",
              "      <td>101</td>\n",
              "      <td>107</td>\n",
              "      <td>49</td>\n",
              "      <td>49</td>\n",
              "      <td>49</td>\n",
              "      <td>49</td>\n",
              "      <td>26</td>\n",
              "      <td>27</td>\n",
              "      <td>0</td>\n",
              "    </tr>\n",
              "    <tr>\n",
              "      <th>4</th>\n",
              "      <td>228</td>\n",
              "      <td>228</td>\n",
              "      <td>22</td>\n",
              "      <td>22</td>\n",
              "      <td>135</td>\n",
              "      <td>132</td>\n",
              "      <td>131</td>\n",
              "      <td>136</td>\n",
              "      <td>175</td>\n",
              "      <td>173</td>\n",
              "      <td>107</td>\n",
              "      <td>107</td>\n",
              "      <td>103</td>\n",
              "      <td>107</td>\n",
              "      <td>49</td>\n",
              "      <td>49</td>\n",
              "      <td>46</td>\n",
              "      <td>49</td>\n",
              "      <td>29</td>\n",
              "      <td>31</td>\n",
              "      <td>0</td>\n",
              "    </tr>\n",
              "  </tbody>\n",
              "</table>\n",
              "</div>"
            ],
            "text/plain": [
              "   Resin_R1_PR  Resin_R2_PR  Hardener_R1_PR  ...  CO21  CO22  Evaluacion\n",
              "0          229          229              22  ...    27    30           0\n",
              "1          230          230              22  ...    34    40           0\n",
              "2          228          231              22  ...    27    30           0\n",
              "3          229          232              22  ...    26    27           0\n",
              "4          228          228              22  ...    29    31           0\n",
              "\n",
              "[5 rows x 21 columns]"
            ]
          },
          "metadata": {
            "tags": []
          },
          "execution_count": 111
        }
      ]
    },
    {
      "cell_type": "code",
      "metadata": {
        "id": "dLMc0zqfA0vu"
      },
      "source": [
        "X = df_robots.loc[:,'Resin_R1_PR':'CO22']\n",
        "y = df_robots['Evaluacion']"
      ],
      "execution_count": null,
      "outputs": []
    },
    {
      "cell_type": "code",
      "metadata": {
        "id": "RXWG-6PIAoKD"
      },
      "source": [
        "X_train, X_test, y_train, y_test = train_test_split(X, y, test_size=0.33)"
      ],
      "execution_count": null,
      "outputs": []
    },
    {
      "cell_type": "markdown",
      "metadata": {
        "id": "xjiZ8KP8IP0-"
      },
      "source": [
        "Regresión Logistica"
      ]
    },
    {
      "cell_type": "code",
      "metadata": {
        "id": "i3529SnhBRa3"
      },
      "source": [
        "lg = LogisticRegression()"
      ],
      "execution_count": null,
      "outputs": []
    },
    {
      "cell_type": "code",
      "metadata": {
        "colab": {
          "base_uri": "https://localhost:8080/"
        },
        "id": "I829xgRKBXdH",
        "outputId": "6e29c63f-0593-4873-f3ae-00e7d96ee29b"
      },
      "source": [
        "lg.fit(X_train, y_train)"
      ],
      "execution_count": null,
      "outputs": [
        {
          "output_type": "stream",
          "text": [
            "/usr/local/lib/python3.7/dist-packages/sklearn/linear_model/_logistic.py:940: ConvergenceWarning: lbfgs failed to converge (status=1):\n",
            "STOP: TOTAL NO. of ITERATIONS REACHED LIMIT.\n",
            "\n",
            "Increase the number of iterations (max_iter) or scale the data as shown in:\n",
            "    https://scikit-learn.org/stable/modules/preprocessing.html\n",
            "Please also refer to the documentation for alternative solver options:\n",
            "    https://scikit-learn.org/stable/modules/linear_model.html#logistic-regression\n",
            "  extra_warning_msg=_LOGISTIC_SOLVER_CONVERGENCE_MSG)\n"
          ],
          "name": "stderr"
        },
        {
          "output_type": "execute_result",
          "data": {
            "text/plain": [
              "LogisticRegression(C=1.0, class_weight=None, dual=False, fit_intercept=True,\n",
              "                   intercept_scaling=1, l1_ratio=None, max_iter=100,\n",
              "                   multi_class='auto', n_jobs=None, penalty='l2',\n",
              "                   random_state=None, solver='lbfgs', tol=0.0001, verbose=0,\n",
              "                   warm_start=False)"
            ]
          },
          "metadata": {
            "tags": []
          },
          "execution_count": 115
        }
      ]
    },
    {
      "cell_type": "code",
      "metadata": {
        "id": "TLJ3_f7EBdMW"
      },
      "source": [
        "y_predict = lg.predict(X_test)"
      ],
      "execution_count": null,
      "outputs": []
    },
    {
      "cell_type": "code",
      "metadata": {
        "colab": {
          "base_uri": "https://localhost:8080/"
        },
        "id": "RRevtAK2Bog6",
        "outputId": "ccf57c25-1391-4840-d8fb-dcba970ab22c"
      },
      "source": [
        "score = lg.score(X_test, y_test)\n",
        "score"
      ],
      "execution_count": null,
      "outputs": [
        {
          "output_type": "execute_result",
          "data": {
            "text/plain": [
              "0.9284984678243106"
            ]
          },
          "metadata": {
            "tags": []
          },
          "execution_count": 117
        }
      ]
    },
    {
      "cell_type": "code",
      "metadata": {
        "colab": {
          "base_uri": "https://localhost:8080/"
        },
        "id": "EharMbefEaws",
        "outputId": "d50b3569-538c-4d60-d3c8-fe1b79fff306"
      },
      "source": [
        "lg.coef_"
      ],
      "execution_count": null,
      "outputs": [
        {
          "output_type": "execute_result",
          "data": {
            "text/plain": [
              "array([[ 6.47322034e-02, -3.82510402e-02,  1.30838856e-02,\n",
              "         5.93157548e-03,  2.90395493e-03, -2.45123588e-02,\n",
              "        -4.28055318e-02,  8.29593616e-02,  1.60826933e-02,\n",
              "         3.14747454e-02,  1.67799919e-02,  7.20174307e-02,\n",
              "         9.24751189e-02, -2.03965434e-01, -1.94541542e-01,\n",
              "        -3.35565113e-02, -3.71774025e-02, -1.00384827e-01,\n",
              "        -9.23581319e-05,  1.39045468e-02]])"
            ]
          },
          "metadata": {
            "tags": []
          },
          "execution_count": 118
        }
      ]
    },
    {
      "cell_type": "code",
      "metadata": {
        "colab": {
          "base_uri": "https://localhost:8080/"
        },
        "id": "cFs05dSJEH0b",
        "outputId": "7f00635d-85df-4c23-f25f-0aef082f95a2"
      },
      "source": [
        "conf_matrix_lg = metrics.confusion_matrix(y_test, y_predict)\n",
        "conf_matrix_lg"
      ],
      "execution_count": null,
      "outputs": [
        {
          "output_type": "execute_result",
          "data": {
            "text/plain": [
              "array([[902,   3],\n",
              "       [ 67,   7]])"
            ]
          },
          "metadata": {
            "tags": []
          },
          "execution_count": 119
        }
      ]
    },
    {
      "cell_type": "code",
      "metadata": {
        "colab": {
          "base_uri": "https://localhost:8080/",
          "height": 457
        },
        "id": "tdRuq7MkKrV5",
        "outputId": "3ab44660-1d35-4621-cc2f-54a2d7d3641a"
      },
      "source": [
        "class_names=[0,1] \n",
        "fig, ax = plt.subplots(figsize=(6, 6))\n",
        "tick_marks = np.arange(len(class_names))\n",
        "plt.xticks(tick_marks, class_names)\n",
        "plt.yticks(tick_marks, class_names)\n",
        "\n",
        "sns.heatmap(pd.DataFrame(conf_matrix_lg), annot=True, cmap=\"Blues\" ,fmt='g', cbar=False, annot_kws={\"size\": 20})\n",
        "ax.xaxis.set_label_position(\"top\")\n",
        "plt.tight_layout()\n",
        "plt.ylabel('Realidad', fontsize=15, y=0.5)\n",
        "plt.xlabel('Estimado por el modelo', fontsize=15);"
      ],
      "execution_count": null,
      "outputs": [
        {
          "output_type": "display_data",
          "data": {
            "image/png": "[encoded data removed]",
            "text/plain": [
              "<Figure size 432x432 with 1 Axes>"
            ]
          },
          "metadata": {
            "tags": [],
            "needs_background": "light"
          }
        }
      ]
    },
    {
      "cell_type": "code",
      "metadata": {
        "colab": {
          "base_uri": "https://localhost:8080/"
        },
        "id": "-NY5q7VrESCp",
        "outputId": "57701377-4877-47c5-e8dc-27cbb0e93793"
      },
      "source": [
        "print(metrics.classification_report(y_test, y_predict))"
      ],
      "execution_count": null,
      "outputs": [
        {
          "output_type": "stream",
          "text": [
            "              precision    recall  f1-score   support\n",
            "\n",
            "           0       0.93      1.00      0.96       905\n",
            "           1       0.70      0.09      0.17        74\n",
            "\n",
            "    accuracy                           0.93       979\n",
            "   macro avg       0.82      0.55      0.56       979\n",
            "weighted avg       0.91      0.93      0.90       979\n",
            "\n"
          ],
          "name": "stdout"
        }
      ]
    },
    {
      "cell_type": "markdown",
      "metadata": {
        "id": "dQftLOvmH-r4"
      },
      "source": [
        "Random Forest"
      ]
    },
    {
      "cell_type": "code",
      "metadata": {
        "id": "IiDq5RDxNPIc"
      },
      "source": [
        "rf = RandomForestClassifier()"
      ],
      "execution_count": null,
      "outputs": []
    },
    {
      "cell_type": "code",
      "metadata": {
        "colab": {
          "base_uri": "https://localhost:8080/"
        },
        "id": "82dJpC7JNa3Y",
        "outputId": "53737cde-c890-4d98-eaea-a132ae9d1db1"
      },
      "source": [
        "rf.fit(X_train, y_train)"
      ],
      "execution_count": null,
      "outputs": [
        {
          "output_type": "execute_result",
          "data": {
            "text/plain": [
              "RandomForestClassifier(bootstrap=True, ccp_alpha=0.0, class_weight=None,\n",
              "                       criterion='gini', max_depth=None, max_features='auto',\n",
              "                       max_leaf_nodes=None, max_samples=None,\n",
              "                       min_impurity_decrease=0.0, min_impurity_split=None,\n",
              "                       min_samples_leaf=1, min_samples_split=2,\n",
              "                       min_weight_fraction_leaf=0.0, n_estimators=100,\n",
              "                       n_jobs=None, oob_score=False, random_state=None,\n",
              "                       verbose=0, warm_start=False)"
            ]
          },
          "metadata": {
            "tags": []
          },
          "execution_count": 123
        }
      ]
    },
    {
      "cell_type": "code",
      "metadata": {
        "colab": {
          "base_uri": "https://localhost:8080/"
        },
        "id": "JvzDljdkNoB-",
        "outputId": "c0dbac82-784a-42b7-a6d1-8111b5deb651"
      },
      "source": [
        "rf.score(X_test, y_test)"
      ],
      "execution_count": null,
      "outputs": [
        {
          "output_type": "execute_result",
          "data": {
            "text/plain": [
              "0.9489274770173647"
            ]
          },
          "metadata": {
            "tags": []
          },
          "execution_count": 124
        }
      ]
    },
    {
      "cell_type": "code",
      "metadata": {
        "id": "1G6Q9n20Nh2e"
      },
      "source": [
        "y_predict_forest = rf.predict(X_test)"
      ],
      "execution_count": null,
      "outputs": []
    },
    {
      "cell_type": "code",
      "metadata": {
        "colab": {
          "base_uri": "https://localhost:8080/"
        },
        "id": "j4YXskUSIuli",
        "outputId": "99aa0326-6050-40be-a6d6-e564fe20bcc2"
      },
      "source": [
        "conf_matrix_forest  = metrics.confusion_matrix(y_test, y_predict_forest)\n",
        "conf_matrix_forest"
      ],
      "execution_count": null,
      "outputs": [
        {
          "output_type": "execute_result",
          "data": {
            "text/plain": [
              "array([[897,   8],\n",
              "       [ 42,  32]])"
            ]
          },
          "metadata": {
            "tags": []
          },
          "execution_count": 126
        }
      ]
    },
    {
      "cell_type": "code",
      "metadata": {
        "colab": {
          "base_uri": "https://localhost:8080/",
          "height": 457
        },
        "id": "s0WDAhOOJ0Y9",
        "outputId": "638b0427-e959-4bdd-a7cc-8e38887b3109"
      },
      "source": [
        "class_names=[0,1] \n",
        "fig, ax = plt.subplots(figsize=(6, 6))\n",
        "tick_marks = np.arange(len(class_names))\n",
        "plt.xticks(tick_marks, class_names)\n",
        "plt.yticks(tick_marks, class_names)\n",
        "\n",
        "sns.heatmap(pd.DataFrame(conf_matrix_forest), annot=True, cmap=\"Blues\" ,fmt='g', cbar=False, annot_kws={\"size\": 20})\n",
        "ax.xaxis.set_label_position(\"top\")\n",
        "plt.tight_layout()\n",
        "plt.ylabel('Realidad', fontsize=15, y=0.5)\n",
        "plt.xlabel('Estimado por el modelo', fontsize=15);"
      ],
      "execution_count": null,
      "outputs": [
        {
          "output_type": "display_data",
          "data": {
            "image/png": "[encoded data removed]",
            "text/plain": [
              "<Figure size 432x432 with 1 Axes>"
            ]
          },
          "metadata": {
            "tags": [],
            "needs_background": "light"
          }
        }
      ]
    },
    {
      "cell_type": "code",
      "metadata": {
        "colab": {
          "base_uri": "https://localhost:8080/"
        },
        "id": "XasU11QsL36P",
        "outputId": "25d8588c-9c33-4867-999e-63f16d88deac"
      },
      "source": [
        "print(metrics.classification_report(y_test, y_predict_forest))"
      ],
      "execution_count": null,
      "outputs": [
        {
          "output_type": "stream",
          "text": [
            "              precision    recall  f1-score   support\n",
            "\n",
            "           0       0.96      0.99      0.97       905\n",
            "           1       0.80      0.43      0.56        74\n",
            "\n",
            "    accuracy                           0.95       979\n",
            "   macro avg       0.88      0.71      0.77       979\n",
            "weighted avg       0.94      0.95      0.94       979\n",
            "\n"
          ],
          "name": "stdout"
        }
      ]
    },
    {
      "cell_type": "markdown",
      "metadata": {
        "id": "0aRa3c1x5ZIi"
      },
      "source": [
        "Tiguan RR Temporal 2R Platinum grey"
      ]
    },
    {
      "cell_type": "code",
      "metadata": {
        "id": "0Skbbhw35uuB"
      },
      "source": [
        "df_robots_1 = df.loc[:,'Resin_R1_PR':'Evaluacion']"
      ],
      "execution_count": null,
      "outputs": []
    },
    {
      "cell_type": "code",
      "metadata": {
        "id": "XQPkrLNgHxa3"
      },
      "source": [
        "df_robots_1 = df_robots_1[(df_robots_1[\"JobName\"] == \"Tiguan RR Temporal\") & (df_robots_1[\"ColorName\"] == \"2R Platinum Grey\")]"
      ],
      "execution_count": null,
      "outputs": []
    },
    {
      "cell_type": "code",
      "metadata": {
        "id": "_7Hy9hd-5uuE"
      },
      "source": [
        "df_robots_1 = df_robots_1.drop(columns = [\"Week\",\"Year\",\"JobName\",\"ColorName\"])"
      ],
      "execution_count": null,
      "outputs": []
    },
    {
      "cell_type": "code",
      "metadata": {
        "colab": {
          "base_uri": "https://localhost:8080/",
          "height": 224
        },
        "id": "KY3sxlkqGj0s",
        "outputId": "745ac1b9-89bf-4fe6-d6ad-7b778483564e"
      },
      "source": [
        "df_robots_1.head()"
      ],
      "execution_count": null,
      "outputs": [
        {
          "output_type": "execute_result",
          "data": {
            "text/html": [
              "<div>\n",
              "<style scoped>\n",
              "    .dataframe tbody tr th:only-of-type {\n",
              "        vertical-align: middle;\n",
              "    }\n",
              "\n",
              "    .dataframe tbody tr th {\n",
              "        vertical-align: top;\n",
              "    }\n",
              "\n",
              "    .dataframe thead th {\n",
              "        text-align: right;\n",
              "    }\n",
              "</style>\n",
              "<table border=\"1\" class=\"dataframe\">\n",
              "  <thead>\n",
              "    <tr style=\"text-align: right;\">\n",
              "      <th></th>\n",
              "      <th>Resin_R1_PR</th>\n",
              "      <th>Resin_R2_PR</th>\n",
              "      <th>Hardener_R1_PR</th>\n",
              "      <th>Hardener_R2_PR</th>\n",
              "      <th>Resin_R1_BC</th>\n",
              "      <th>Resin_R2_BC</th>\n",
              "      <th>Resin_R3_BC</th>\n",
              "      <th>Resin_R4_BC</th>\n",
              "      <th>Resin_R5_BC</th>\n",
              "      <th>Resin_R6_BC</th>\n",
              "      <th>Resin_R1_CC</th>\n",
              "      <th>Resin_R2_CC</th>\n",
              "      <th>Resin_R3_CC</th>\n",
              "      <th>Resin_R4_CC</th>\n",
              "      <th>Hardener_R1_CC</th>\n",
              "      <th>Hardener_R2_CC</th>\n",
              "      <th>Hardener_R3_CC</th>\n",
              "      <th>Hardener_R4_CC</th>\n",
              "      <th>CO21</th>\n",
              "      <th>CO22</th>\n",
              "      <th>Evaluacion</th>\n",
              "    </tr>\n",
              "  </thead>\n",
              "  <tbody>\n",
              "    <tr>\n",
              "      <th>1531</th>\n",
              "      <td>212</td>\n",
              "      <td>213</td>\n",
              "      <td>20</td>\n",
              "      <td>20</td>\n",
              "      <td>88</td>\n",
              "      <td>92</td>\n",
              "      <td>167</td>\n",
              "      <td>167</td>\n",
              "      <td>330</td>\n",
              "      <td>318</td>\n",
              "      <td>82</td>\n",
              "      <td>74</td>\n",
              "      <td>136</td>\n",
              "      <td>154</td>\n",
              "      <td>39</td>\n",
              "      <td>33</td>\n",
              "      <td>66</td>\n",
              "      <td>73</td>\n",
              "      <td>56</td>\n",
              "      <td>59</td>\n",
              "      <td>0</td>\n",
              "    </tr>\n",
              "    <tr>\n",
              "      <th>1532</th>\n",
              "      <td>213</td>\n",
              "      <td>213</td>\n",
              "      <td>20</td>\n",
              "      <td>20</td>\n",
              "      <td>87</td>\n",
              "      <td>91</td>\n",
              "      <td>167</td>\n",
              "      <td>167</td>\n",
              "      <td>330</td>\n",
              "      <td>320</td>\n",
              "      <td>83</td>\n",
              "      <td>71</td>\n",
              "      <td>134</td>\n",
              "      <td>150</td>\n",
              "      <td>39</td>\n",
              "      <td>33</td>\n",
              "      <td>66</td>\n",
              "      <td>69</td>\n",
              "      <td>52</td>\n",
              "      <td>51</td>\n",
              "      <td>0</td>\n",
              "    </tr>\n",
              "    <tr>\n",
              "      <th>1533</th>\n",
              "      <td>213</td>\n",
              "      <td>212</td>\n",
              "      <td>20</td>\n",
              "      <td>20</td>\n",
              "      <td>86</td>\n",
              "      <td>92</td>\n",
              "      <td>167</td>\n",
              "      <td>166</td>\n",
              "      <td>331</td>\n",
              "      <td>321</td>\n",
              "      <td>106</td>\n",
              "      <td>101</td>\n",
              "      <td>136</td>\n",
              "      <td>153</td>\n",
              "      <td>49</td>\n",
              "      <td>49</td>\n",
              "      <td>66</td>\n",
              "      <td>73</td>\n",
              "      <td>55</td>\n",
              "      <td>59</td>\n",
              "      <td>0</td>\n",
              "    </tr>\n",
              "    <tr>\n",
              "      <th>1534</th>\n",
              "      <td>252</td>\n",
              "      <td>251</td>\n",
              "      <td>24</td>\n",
              "      <td>24</td>\n",
              "      <td>87</td>\n",
              "      <td>91</td>\n",
              "      <td>166</td>\n",
              "      <td>165</td>\n",
              "      <td>330</td>\n",
              "      <td>320</td>\n",
              "      <td>82</td>\n",
              "      <td>76</td>\n",
              "      <td>134</td>\n",
              "      <td>155</td>\n",
              "      <td>39</td>\n",
              "      <td>33</td>\n",
              "      <td>66</td>\n",
              "      <td>73</td>\n",
              "      <td>47</td>\n",
              "      <td>51</td>\n",
              "      <td>0</td>\n",
              "    </tr>\n",
              "    <tr>\n",
              "      <th>1535</th>\n",
              "      <td>214</td>\n",
              "      <td>213</td>\n",
              "      <td>20</td>\n",
              "      <td>20</td>\n",
              "      <td>88</td>\n",
              "      <td>91</td>\n",
              "      <td>167</td>\n",
              "      <td>167</td>\n",
              "      <td>329</td>\n",
              "      <td>321</td>\n",
              "      <td>81</td>\n",
              "      <td>72</td>\n",
              "      <td>137</td>\n",
              "      <td>153</td>\n",
              "      <td>39</td>\n",
              "      <td>33</td>\n",
              "      <td>66</td>\n",
              "      <td>73</td>\n",
              "      <td>57</td>\n",
              "      <td>59</td>\n",
              "      <td>0</td>\n",
              "    </tr>\n",
              "  </tbody>\n",
              "</table>\n",
              "</div>"
            ],
            "text/plain": [
              "      Resin_R1_PR  Resin_R2_PR  Hardener_R1_PR  ...  CO21  CO22  Evaluacion\n",
              "1531          212          213              20  ...    56    59           0\n",
              "1532          213          213              20  ...    52    51           0\n",
              "1533          213          212              20  ...    55    59           0\n",
              "1534          252          251              24  ...    47    51           0\n",
              "1535          214          213              20  ...    57    59           0\n",
              "\n",
              "[5 rows x 21 columns]"
            ]
          },
          "metadata": {
            "tags": []
          },
          "execution_count": 132
        }
      ]
    },
    {
      "cell_type": "code",
      "metadata": {
        "id": "KYNm3ui_5uuM"
      },
      "source": [
        "X = df_robots_1.loc[:,'Resin_R1_PR':'CO22']\n",
        "y = df_robots_1['Evaluacion']"
      ],
      "execution_count": null,
      "outputs": []
    },
    {
      "cell_type": "code",
      "metadata": {
        "id": "QpmNtYfW5uuO"
      },
      "source": [
        "X_train, X_test, y_train, y_test = train_test_split(X, y, test_size=0.33)"
      ],
      "execution_count": null,
      "outputs": []
    },
    {
      "cell_type": "markdown",
      "metadata": {
        "id": "34wA1F3tTYxc"
      },
      "source": [
        "Regresión Logistica"
      ]
    },
    {
      "cell_type": "code",
      "metadata": {
        "id": "3RaRKsaW5uuQ"
      },
      "source": [
        "from sklearn.linear_model import LogisticRegression\n",
        "from sklearn.ensemble import RandomForestClassifier"
      ],
      "execution_count": null,
      "outputs": []
    },
    {
      "cell_type": "code",
      "metadata": {
        "id": "dVPBQlb15uuR"
      },
      "source": [
        "lg = LogisticRegression()"
      ],
      "execution_count": null,
      "outputs": []
    },
    {
      "cell_type": "code",
      "metadata": {
        "colab": {
          "base_uri": "https://localhost:8080/"
        },
        "id": "cz_RGutw5uuW",
        "outputId": "d1150202-4cec-4c55-ccbf-54ef22bf418b"
      },
      "source": [
        "lg.fit(X_train, y_train)"
      ],
      "execution_count": null,
      "outputs": [
        {
          "output_type": "stream",
          "text": [
            "/usr/local/lib/python3.7/dist-packages/sklearn/linear_model/_logistic.py:940: ConvergenceWarning: lbfgs failed to converge (status=1):\n",
            "STOP: TOTAL NO. of ITERATIONS REACHED LIMIT.\n",
            "\n",
            "Increase the number of iterations (max_iter) or scale the data as shown in:\n",
            "    https://scikit-learn.org/stable/modules/preprocessing.html\n",
            "Please also refer to the documentation for alternative solver options:\n",
            "    https://scikit-learn.org/stable/modules/linear_model.html#logistic-regression\n",
            "  extra_warning_msg=_LOGISTIC_SOLVER_CONVERGENCE_MSG)\n"
          ],
          "name": "stderr"
        },
        {
          "output_type": "execute_result",
          "data": {
            "text/plain": [
              "LogisticRegression(C=1.0, class_weight=None, dual=False, fit_intercept=True,\n",
              "                   intercept_scaling=1, l1_ratio=None, max_iter=100,\n",
              "                   multi_class='auto', n_jobs=None, penalty='l2',\n",
              "                   random_state=None, solver='lbfgs', tol=0.0001, verbose=0,\n",
              "                   warm_start=False)"
            ]
          },
          "metadata": {
            "tags": []
          },
          "execution_count": 137
        }
      ]
    },
    {
      "cell_type": "code",
      "metadata": {
        "id": "8dqaF5XB5uuh"
      },
      "source": [
        "y_predict = lg.predict(X_test)"
      ],
      "execution_count": null,
      "outputs": []
    },
    {
      "cell_type": "code",
      "metadata": {
        "colab": {
          "base_uri": "https://localhost:8080/"
        },
        "id": "pCK4ocps5uuj",
        "outputId": "f53692a8-4c41-44c9-b531-4955294ea48d"
      },
      "source": [
        "score = lg.score(X_test, y_test)\n",
        "score"
      ],
      "execution_count": null,
      "outputs": [
        {
          "output_type": "execute_result",
          "data": {
            "text/plain": [
              "0.9521739130434783"
            ]
          },
          "metadata": {
            "tags": []
          },
          "execution_count": 139
        }
      ]
    },
    {
      "cell_type": "code",
      "metadata": {
        "colab": {
          "base_uri": "https://localhost:8080/"
        },
        "id": "RbqOZbmD5uuq",
        "outputId": "3b300755-407c-4f45-807a-a8a27c12df46"
      },
      "source": [
        "lg.coef_"
      ],
      "execution_count": null,
      "outputs": [
        {
          "output_type": "execute_result",
          "data": {
            "text/plain": [
              "array([[ 0.09980497,  0.03428869,  0.02036715,  0.00234719,  0.07770923,\n",
              "         0.01721247, -0.13125665,  0.05631075,  0.4058963 , -0.50586882,\n",
              "         0.06709527, -0.13717078,  0.33489247, -0.20216157, -0.38508035,\n",
              "         0.31253639,  0.14442774, -0.22546358, -0.06199478,  0.01855946]])"
            ]
          },
          "metadata": {
            "tags": []
          },
          "execution_count": 140
        }
      ]
    },
    {
      "cell_type": "code",
      "metadata": {
        "id": "zNTg5jVS5uul"
      },
      "source": [
        "from sklearn import metrics"
      ],
      "execution_count": null,
      "outputs": []
    },
    {
      "cell_type": "code",
      "metadata": {
        "colab": {
          "base_uri": "https://localhost:8080/"
        },
        "id": "0cWA_i2I5uum",
        "outputId": "4f1dd8df-561a-4c01-de29-50c452213feb"
      },
      "source": [
        "conf_matrix_lg_1 = metrics.confusion_matrix(y_test, y_predict)\n",
        "conf_matrix_lg_1"
      ],
      "execution_count": null,
      "outputs": [
        {
          "output_type": "execute_result",
          "data": {
            "text/plain": [
              "array([[214,   5],\n",
              "       [  6,   5]])"
            ]
          },
          "metadata": {
            "tags": []
          },
          "execution_count": 142
        }
      ]
    },
    {
      "cell_type": "code",
      "metadata": {
        "colab": {
          "base_uri": "https://localhost:8080/",
          "height": 457
        },
        "id": "j0-lNl2NUjJd",
        "outputId": "52fa8fb7-70bd-43e2-852d-4692cbf322d0"
      },
      "source": [
        "class_names=[0,1] \n",
        "fig, ax = plt.subplots(figsize=(6, 6))\n",
        "tick_marks = np.arange(len(class_names))\n",
        "plt.xticks(tick_marks, class_names)\n",
        "plt.yticks(tick_marks, class_names)\n",
        "\n",
        "sns.heatmap(pd.DataFrame(conf_matrix_lg_1), annot=True, cmap=\"Blues\" ,fmt='g', cbar=False, annot_kws={\"size\": 20})\n",
        "ax.xaxis.set_label_position(\"top\")\n",
        "plt.tight_layout()\n",
        "plt.ylabel('Realidad', fontsize=15, y=0.5)\n",
        "plt.xlabel('Estimado por el modelo', fontsize=15);"
      ],
      "execution_count": null,
      "outputs": [
        {
          "output_type": "display_data",
          "data": {
            "image/png": "[encoded data removed]",
            "text/plain": [
              "<Figure size 432x432 with 1 Axes>"
            ]
          },
          "metadata": {
            "tags": [],
            "needs_background": "light"
          }
        }
      ]
    },
    {
      "cell_type": "code",
      "metadata": {
        "colab": {
          "base_uri": "https://localhost:8080/"
        },
        "id": "YpI812Tv5uuo",
        "outputId": "d3240ab2-c430-4e8c-8e55-8f4f95eb660b"
      },
      "source": [
        "print(metrics.classification_report(y_test, y_predict))"
      ],
      "execution_count": null,
      "outputs": [
        {
          "output_type": "stream",
          "text": [
            "              precision    recall  f1-score   support\n",
            "\n",
            "           0       0.97      0.98      0.97       219\n",
            "           1       0.50      0.45      0.48        11\n",
            "\n",
            "    accuracy                           0.95       230\n",
            "   macro avg       0.74      0.72      0.73       230\n",
            "weighted avg       0.95      0.95      0.95       230\n",
            "\n"
          ],
          "name": "stdout"
        }
      ]
    },
    {
      "cell_type": "markdown",
      "metadata": {
        "id": "uNoIJ99cT1zQ"
      },
      "source": [
        "Random Forest"
      ]
    },
    {
      "cell_type": "code",
      "metadata": {
        "id": "ZEz8nCp55uuT"
      },
      "source": [
        "rf = RandomForestClassifier()"
      ],
      "execution_count": null,
      "outputs": []
    },
    {
      "cell_type": "code",
      "metadata": {
        "colab": {
          "base_uri": "https://localhost:8080/"
        },
        "id": "NeNohnk15uuY",
        "outputId": "02c5f816-495e-4bf7-8262-cb1a79f7129e"
      },
      "source": [
        "rf.fit(X_train, y_train)"
      ],
      "execution_count": null,
      "outputs": [
        {
          "output_type": "execute_result",
          "data": {
            "text/plain": [
              "RandomForestClassifier(bootstrap=True, ccp_alpha=0.0, class_weight=None,\n",
              "                       criterion='gini', max_depth=None, max_features='auto',\n",
              "                       max_leaf_nodes=None, max_samples=None,\n",
              "                       min_impurity_decrease=0.0, min_impurity_split=None,\n",
              "                       min_samples_leaf=1, min_samples_split=2,\n",
              "                       min_weight_fraction_leaf=0.0, n_estimators=100,\n",
              "                       n_jobs=None, oob_score=False, random_state=None,\n",
              "                       verbose=0, warm_start=False)"
            ]
          },
          "metadata": {
            "tags": []
          },
          "execution_count": 146
        }
      ]
    },
    {
      "cell_type": "code",
      "metadata": {
        "colab": {
          "base_uri": "https://localhost:8080/"
        },
        "id": "UGq0O5Gx5uua",
        "outputId": "8e816e43-ff35-48c4-c435-6ddf97fdef3f"
      },
      "source": [
        "rf.score(X_test, y_test)"
      ],
      "execution_count": null,
      "outputs": [
        {
          "output_type": "execute_result",
          "data": {
            "text/plain": [
              "0.9695652173913043"
            ]
          },
          "metadata": {
            "tags": []
          },
          "execution_count": 147
        }
      ]
    },
    {
      "cell_type": "code",
      "metadata": {
        "id": "OTACPjlB5uuc"
      },
      "source": [
        "y_predict_forest = rf.predict(X_test)"
      ],
      "execution_count": null,
      "outputs": []
    },
    {
      "cell_type": "code",
      "metadata": {
        "colab": {
          "base_uri": "https://localhost:8080/"
        },
        "id": "Xe46UeW9VDqb",
        "outputId": "cb42dced-a291-4783-e51e-b97e3e126816"
      },
      "source": [
        "conf_matrix_forest_1  = metrics.confusion_matrix(y_test, y_predict_forest)\n",
        "conf_matrix_forest_1"
      ],
      "execution_count": null,
      "outputs": [
        {
          "output_type": "execute_result",
          "data": {
            "text/plain": [
              "array([[217,   2],\n",
              "       [  5,   6]])"
            ]
          },
          "metadata": {
            "tags": []
          },
          "execution_count": 149
        }
      ]
    },
    {
      "cell_type": "code",
      "metadata": {
        "colab": {
          "base_uri": "https://localhost:8080/",
          "height": 457
        },
        "id": "AruH9CAnVDqh",
        "outputId": "c60c04d8-9d41-44b7-9189-b64561b18ace"
      },
      "source": [
        "class_names=[0,1] \n",
        "fig, ax = plt.subplots(figsize=(6, 6))\n",
        "tick_marks = np.arange(len(class_names))\n",
        "plt.xticks(tick_marks, class_names)\n",
        "plt.yticks(tick_marks, class_names)\n",
        "\n",
        "sns.heatmap(pd.DataFrame(conf_matrix_forest_1), annot=True, cmap=\"Blues\" ,fmt='g', cbar=False, annot_kws={\"size\": 20})\n",
        "ax.xaxis.set_label_position(\"top\")\n",
        "plt.tight_layout()\n",
        "plt.ylabel('Realidad', fontsize=15, y=0.5)\n",
        "plt.xlabel('Estimado por el modelo', fontsize=15);"
      ],
      "execution_count": null,
      "outputs": [
        {
          "output_type": "display_data",
          "data": {
            "image/png": "[encoded data removed]",
            "text/plain": [
              "<Figure size 432x432 with 1 Axes>"
            ]
          },
          "metadata": {
            "tags": [],
            "needs_background": "light"
          }
        }
      ]
    },
    {
      "cell_type": "code",
      "metadata": {
        "colab": {
          "base_uri": "https://localhost:8080/"
        },
        "id": "7NSRJm7w5uur",
        "outputId": "fd667319-f054-4d8c-8092-a028019e94f5"
      },
      "source": [
        "print(metrics.classification_report(y_test, y_predict_forest))"
      ],
      "execution_count": null,
      "outputs": [
        {
          "output_type": "stream",
          "text": [
            "              precision    recall  f1-score   support\n",
            "\n",
            "           0       0.98      0.99      0.98       219\n",
            "           1       0.75      0.55      0.63        11\n",
            "\n",
            "    accuracy                           0.97       230\n",
            "   macro avg       0.86      0.77      0.81       230\n",
            "weighted avg       0.97      0.97      0.97       230\n",
            "\n"
          ],
          "name": "stdout"
        }
      ]
    },
    {
      "cell_type": "markdown",
      "metadata": {
        "id": "wp4V9Z67JYnU"
      },
      "source": [
        "Difusor Tiguan A1 Black Bic"
      ]
    },
    {
      "cell_type": "code",
      "metadata": {
        "id": "69DbsTN5JbTs"
      },
      "source": [
        "df_robots_2 = df.loc[:,'Resin_R1_PR':'Evaluacion']"
      ],
      "execution_count": null,
      "outputs": []
    },
    {
      "cell_type": "code",
      "metadata": {
        "id": "yuBlR9njJbTv"
      },
      "source": [
        "df_robots_2 = df_robots_2[(df_robots_2[\"JobName\"] == \"Difusor Tiguan\") & (df_robots_2[\"ColorName\"] == \"A1 Black Bic\")]"
      ],
      "execution_count": null,
      "outputs": []
    },
    {
      "cell_type": "code",
      "metadata": {
        "id": "77YiCqa_JbTw"
      },
      "source": [
        "df_robots_2 = df_robots_2.drop(columns = [\"Week\",\"Year\",\"JobName\",\"ColorName\"])"
      ],
      "execution_count": null,
      "outputs": []
    },
    {
      "cell_type": "code",
      "metadata": {
        "colab": {
          "base_uri": "https://localhost:8080/",
          "height": 224
        },
        "id": "V6JsznXHJbTy",
        "outputId": "7c1e8d89-cc22-473d-9ffa-349698bf1869"
      },
      "source": [
        "df_robots_2.head()"
      ],
      "execution_count": null,
      "outputs": [
        {
          "output_type": "execute_result",
          "data": {
            "text/html": [
              "<div>\n",
              "<style scoped>\n",
              "    .dataframe tbody tr th:only-of-type {\n",
              "        vertical-align: middle;\n",
              "    }\n",
              "\n",
              "    .dataframe tbody tr th {\n",
              "        vertical-align: top;\n",
              "    }\n",
              "\n",
              "    .dataframe thead th {\n",
              "        text-align: right;\n",
              "    }\n",
              "</style>\n",
              "<table border=\"1\" class=\"dataframe\">\n",
              "  <thead>\n",
              "    <tr style=\"text-align: right;\">\n",
              "      <th></th>\n",
              "      <th>Resin_R1_PR</th>\n",
              "      <th>Resin_R2_PR</th>\n",
              "      <th>Hardener_R1_PR</th>\n",
              "      <th>Hardener_R2_PR</th>\n",
              "      <th>Resin_R1_BC</th>\n",
              "      <th>Resin_R2_BC</th>\n",
              "      <th>Resin_R3_BC</th>\n",
              "      <th>Resin_R4_BC</th>\n",
              "      <th>Resin_R5_BC</th>\n",
              "      <th>Resin_R6_BC</th>\n",
              "      <th>Resin_R1_CC</th>\n",
              "      <th>Resin_R2_CC</th>\n",
              "      <th>Resin_R3_CC</th>\n",
              "      <th>Resin_R4_CC</th>\n",
              "      <th>Hardener_R1_CC</th>\n",
              "      <th>Hardener_R2_CC</th>\n",
              "      <th>Hardener_R3_CC</th>\n",
              "      <th>Hardener_R4_CC</th>\n",
              "      <th>CO21</th>\n",
              "      <th>CO22</th>\n",
              "      <th>Evaluacion</th>\n",
              "    </tr>\n",
              "  </thead>\n",
              "  <tbody>\n",
              "    <tr>\n",
              "      <th>0</th>\n",
              "      <td>229</td>\n",
              "      <td>229</td>\n",
              "      <td>22</td>\n",
              "      <td>22</td>\n",
              "      <td>134</td>\n",
              "      <td>132</td>\n",
              "      <td>131</td>\n",
              "      <td>137</td>\n",
              "      <td>176</td>\n",
              "      <td>171</td>\n",
              "      <td>110</td>\n",
              "      <td>106</td>\n",
              "      <td>102</td>\n",
              "      <td>107</td>\n",
              "      <td>49</td>\n",
              "      <td>49</td>\n",
              "      <td>49</td>\n",
              "      <td>49</td>\n",
              "      <td>27</td>\n",
              "      <td>30</td>\n",
              "      <td>0</td>\n",
              "    </tr>\n",
              "    <tr>\n",
              "      <th>1</th>\n",
              "      <td>230</td>\n",
              "      <td>230</td>\n",
              "      <td>22</td>\n",
              "      <td>22</td>\n",
              "      <td>135</td>\n",
              "      <td>133</td>\n",
              "      <td>130</td>\n",
              "      <td>136</td>\n",
              "      <td>174</td>\n",
              "      <td>172</td>\n",
              "      <td>108</td>\n",
              "      <td>107</td>\n",
              "      <td>102</td>\n",
              "      <td>108</td>\n",
              "      <td>49</td>\n",
              "      <td>49</td>\n",
              "      <td>49</td>\n",
              "      <td>49</td>\n",
              "      <td>34</td>\n",
              "      <td>40</td>\n",
              "      <td>0</td>\n",
              "    </tr>\n",
              "    <tr>\n",
              "      <th>2</th>\n",
              "      <td>228</td>\n",
              "      <td>231</td>\n",
              "      <td>22</td>\n",
              "      <td>22</td>\n",
              "      <td>134</td>\n",
              "      <td>132</td>\n",
              "      <td>131</td>\n",
              "      <td>137</td>\n",
              "      <td>176</td>\n",
              "      <td>174</td>\n",
              "      <td>110</td>\n",
              "      <td>107</td>\n",
              "      <td>102</td>\n",
              "      <td>108</td>\n",
              "      <td>49</td>\n",
              "      <td>49</td>\n",
              "      <td>49</td>\n",
              "      <td>49</td>\n",
              "      <td>27</td>\n",
              "      <td>30</td>\n",
              "      <td>0</td>\n",
              "    </tr>\n",
              "    <tr>\n",
              "      <th>3</th>\n",
              "      <td>229</td>\n",
              "      <td>232</td>\n",
              "      <td>22</td>\n",
              "      <td>22</td>\n",
              "      <td>134</td>\n",
              "      <td>132</td>\n",
              "      <td>131</td>\n",
              "      <td>137</td>\n",
              "      <td>176</td>\n",
              "      <td>172</td>\n",
              "      <td>109</td>\n",
              "      <td>107</td>\n",
              "      <td>101</td>\n",
              "      <td>107</td>\n",
              "      <td>49</td>\n",
              "      <td>49</td>\n",
              "      <td>49</td>\n",
              "      <td>49</td>\n",
              "      <td>26</td>\n",
              "      <td>27</td>\n",
              "      <td>0</td>\n",
              "    </tr>\n",
              "    <tr>\n",
              "      <th>4</th>\n",
              "      <td>228</td>\n",
              "      <td>228</td>\n",
              "      <td>22</td>\n",
              "      <td>22</td>\n",
              "      <td>135</td>\n",
              "      <td>132</td>\n",
              "      <td>131</td>\n",
              "      <td>136</td>\n",
              "      <td>175</td>\n",
              "      <td>173</td>\n",
              "      <td>107</td>\n",
              "      <td>107</td>\n",
              "      <td>103</td>\n",
              "      <td>107</td>\n",
              "      <td>49</td>\n",
              "      <td>49</td>\n",
              "      <td>46</td>\n",
              "      <td>49</td>\n",
              "      <td>29</td>\n",
              "      <td>31</td>\n",
              "      <td>0</td>\n",
              "    </tr>\n",
              "  </tbody>\n",
              "</table>\n",
              "</div>"
            ],
            "text/plain": [
              "   Resin_R1_PR  Resin_R2_PR  Hardener_R1_PR  ...  CO21  CO22  Evaluacion\n",
              "0          229          229              22  ...    27    30           0\n",
              "1          230          230              22  ...    34    40           0\n",
              "2          228          231              22  ...    27    30           0\n",
              "3          229          232              22  ...    26    27           0\n",
              "4          228          228              22  ...    29    31           0\n",
              "\n",
              "[5 rows x 21 columns]"
            ]
          },
          "metadata": {
            "tags": []
          },
          "execution_count": 155
        }
      ]
    },
    {
      "cell_type": "code",
      "metadata": {
        "id": "VQIJUrNxJbT2"
      },
      "source": [
        "X = df_robots_2.loc[:,'Resin_R1_PR':'CO22']\n",
        "y = df_robots_2['Evaluacion']"
      ],
      "execution_count": null,
      "outputs": []
    },
    {
      "cell_type": "code",
      "metadata": {
        "id": "8lv0lJuHJbT4"
      },
      "source": [
        "X_train, X_test, y_train, y_test = train_test_split(X, y, test_size=0.33)"
      ],
      "execution_count": null,
      "outputs": []
    },
    {
      "cell_type": "markdown",
      "metadata": {
        "id": "cYz64PooVN_t"
      },
      "source": [
        "Regresión logistica"
      ]
    },
    {
      "cell_type": "code",
      "metadata": {
        "id": "BTMH5tT4JbUE"
      },
      "source": [
        "lg = LogisticRegression()"
      ],
      "execution_count": null,
      "outputs": []
    },
    {
      "cell_type": "code",
      "metadata": {
        "colab": {
          "base_uri": "https://localhost:8080/"
        },
        "id": "bfrk2geBJbUI",
        "outputId": "9fc1325e-28d5-45aa-f90a-725e019deb8c"
      },
      "source": [
        "lg.fit(X_train, y_train)"
      ],
      "execution_count": null,
      "outputs": [
        {
          "output_type": "stream",
          "text": [
            "/usr/local/lib/python3.7/dist-packages/sklearn/linear_model/_logistic.py:940: ConvergenceWarning: lbfgs failed to converge (status=1):\n",
            "STOP: TOTAL NO. of ITERATIONS REACHED LIMIT.\n",
            "\n",
            "Increase the number of iterations (max_iter) or scale the data as shown in:\n",
            "    https://scikit-learn.org/stable/modules/preprocessing.html\n",
            "Please also refer to the documentation for alternative solver options:\n",
            "    https://scikit-learn.org/stable/modules/linear_model.html#logistic-regression\n",
            "  extra_warning_msg=_LOGISTIC_SOLVER_CONVERGENCE_MSG)\n"
          ],
          "name": "stderr"
        },
        {
          "output_type": "execute_result",
          "data": {
            "text/plain": [
              "LogisticRegression(C=1.0, class_weight=None, dual=False, fit_intercept=True,\n",
              "                   intercept_scaling=1, l1_ratio=None, max_iter=100,\n",
              "                   multi_class='auto', n_jobs=None, penalty='l2',\n",
              "                   random_state=None, solver='lbfgs', tol=0.0001, verbose=0,\n",
              "                   warm_start=False)"
            ]
          },
          "metadata": {
            "tags": []
          },
          "execution_count": 159
        }
      ]
    },
    {
      "cell_type": "code",
      "metadata": {
        "id": "Wj6fyKksJbV4"
      },
      "source": [
        "y_predict = lg.predict(X_test)"
      ],
      "execution_count": null,
      "outputs": []
    },
    {
      "cell_type": "code",
      "metadata": {
        "colab": {
          "base_uri": "https://localhost:8080/"
        },
        "id": "joiS4le7JbV7",
        "outputId": "4bbe5b74-2ee3-49d5-f214-20faf025e26f"
      },
      "source": [
        "score = lg.score(X_test, y_test)\n",
        "score"
      ],
      "execution_count": null,
      "outputs": [
        {
          "output_type": "execute_result",
          "data": {
            "text/plain": [
              "0.9537037037037037"
            ]
          },
          "metadata": {
            "tags": []
          },
          "execution_count": 161
        }
      ]
    },
    {
      "cell_type": "code",
      "metadata": {
        "colab": {
          "base_uri": "https://localhost:8080/"
        },
        "id": "ZNlTLnovJbWD",
        "outputId": "e7562d06-6e01-4831-bb5d-2e4cb7675c08"
      },
      "source": [
        "lg.coef_"
      ],
      "execution_count": null,
      "outputs": [
        {
          "output_type": "execute_result",
          "data": {
            "text/plain": [
              "array([[ 0.37852099, -0.15412846, -0.00696105, -0.01327085,  0.06146742,\n",
              "         0.6124211 , -0.41491799, -1.31244854,  0.25190298,  0.16411327,\n",
              "         0.36661847,  0.07104503,  0.83832256, -0.0749667 , -0.18882998,\n",
              "        -0.23658643, -1.85460807, -0.01090657, -0.17238022,  0.01423245]])"
            ]
          },
          "metadata": {
            "tags": []
          },
          "execution_count": 162
        }
      ]
    },
    {
      "cell_type": "code",
      "metadata": {
        "colab": {
          "base_uri": "https://localhost:8080/"
        },
        "id": "d95l_9oCJbWA",
        "outputId": "5c71ad22-1b54-4cae-b139-1ac4cb5d976f"
      },
      "source": [
        "conf_matrix_lg_2 = metrics.confusion_matrix(y_test, y_predict)\n",
        "conf_matrix_lg_2"
      ],
      "execution_count": null,
      "outputs": [
        {
          "output_type": "execute_result",
          "data": {
            "text/plain": [
              "array([[188,   5],\n",
              "       [  5,  18]])"
            ]
          },
          "metadata": {
            "tags": []
          },
          "execution_count": 163
        }
      ]
    },
    {
      "cell_type": "code",
      "metadata": {
        "colab": {
          "base_uri": "https://localhost:8080/",
          "height": 457
        },
        "id": "4UHhQ2qoWFQH",
        "outputId": "56721cb2-b984-42ce-e542-642c0f7a9a44"
      },
      "source": [
        "class_names=[0,1] \n",
        "fig, ax = plt.subplots(figsize=(6, 6))\n",
        "tick_marks = np.arange(len(class_names))\n",
        "plt.xticks(tick_marks, class_names)\n",
        "plt.yticks(tick_marks, class_names)\n",
        "\n",
        "sns.heatmap(pd.DataFrame(conf_matrix_lg_2), annot=True, cmap=\"Blues\" ,fmt='g', cbar=False, annot_kws={\"size\": 20})\n",
        "ax.xaxis.set_label_position(\"top\")\n",
        "plt.tight_layout()\n",
        "plt.ylabel('Realidad', fontsize=15, y=0.5)\n",
        "plt.xlabel('Estimado por el modelo', fontsize=15);"
      ],
      "execution_count": null,
      "outputs": [
        {
          "output_type": "display_data",
          "data": {
            "image/png": "[encoded data removed]",
            "text/plain": [
              "<Figure size 432x432 with 1 Axes>"
            ]
          },
          "metadata": {
            "tags": [],
            "needs_background": "light"
          }
        }
      ]
    },
    {
      "cell_type": "code",
      "metadata": {
        "colab": {
          "base_uri": "https://localhost:8080/"
        },
        "id": "b8U-M-s7JbWB",
        "outputId": "bacebc7d-bec7-4335-ca26-faa6ec5946b5"
      },
      "source": [
        "print(metrics.classification_report(y_test, y_predict))"
      ],
      "execution_count": null,
      "outputs": [
        {
          "output_type": "stream",
          "text": [
            "              precision    recall  f1-score   support\n",
            "\n",
            "           0       0.97      0.97      0.97       193\n",
            "           1       0.78      0.78      0.78        23\n",
            "\n",
            "    accuracy                           0.95       216\n",
            "   macro avg       0.88      0.88      0.88       216\n",
            "weighted avg       0.95      0.95      0.95       216\n",
            "\n"
          ],
          "name": "stdout"
        }
      ]
    },
    {
      "cell_type": "markdown",
      "metadata": {
        "id": "o9wvsiBSVuPA"
      },
      "source": [
        "Random Forest "
      ]
    },
    {
      "cell_type": "code",
      "metadata": {
        "id": "mW3EF4s4JbUG"
      },
      "source": [
        "rf = RandomForestClassifier()"
      ],
      "execution_count": null,
      "outputs": []
    },
    {
      "cell_type": "code",
      "metadata": {
        "colab": {
          "base_uri": "https://localhost:8080/"
        },
        "id": "LEQCNmCTJbUK",
        "outputId": "2d37ba72-1e12-4df3-adbb-70727ad182c5"
      },
      "source": [
        "rf.fit(X_train, y_train)"
      ],
      "execution_count": null,
      "outputs": [
        {
          "output_type": "execute_result",
          "data": {
            "text/plain": [
              "RandomForestClassifier(bootstrap=True, ccp_alpha=0.0, class_weight=None,\n",
              "                       criterion='gini', max_depth=None, max_features='auto',\n",
              "                       max_leaf_nodes=None, max_samples=None,\n",
              "                       min_impurity_decrease=0.0, min_impurity_split=None,\n",
              "                       min_samples_leaf=1, min_samples_split=2,\n",
              "                       min_weight_fraction_leaf=0.0, n_estimators=100,\n",
              "                       n_jobs=None, oob_score=False, random_state=None,\n",
              "                       verbose=0, warm_start=False)"
            ]
          },
          "metadata": {
            "tags": []
          },
          "execution_count": 167
        }
      ]
    },
    {
      "cell_type": "code",
      "metadata": {
        "colab": {
          "base_uri": "https://localhost:8080/"
        },
        "id": "AC0ogYswJbUM",
        "outputId": "107a4170-0229-4965-e878-961bc5fce095"
      },
      "source": [
        "rf.score(X_test, y_test)"
      ],
      "execution_count": null,
      "outputs": [
        {
          "output_type": "execute_result",
          "data": {
            "text/plain": [
              "0.9629629629629629"
            ]
          },
          "metadata": {
            "tags": []
          },
          "execution_count": 168
        }
      ]
    },
    {
      "cell_type": "code",
      "metadata": {
        "id": "HXGGzAurJbV1"
      },
      "source": [
        "y_predict_forest = rf.predict(X_test)"
      ],
      "execution_count": null,
      "outputs": []
    },
    {
      "cell_type": "code",
      "metadata": {
        "colab": {
          "base_uri": "https://localhost:8080/"
        },
        "id": "WObaIMTAWU_2",
        "outputId": "e0ace99a-5952-4240-d759-9c78e06ad8bf"
      },
      "source": [
        "conf_matrix_forest_2  = metrics.confusion_matrix(y_test, y_predict_forest)\n",
        "conf_matrix_forest_2"
      ],
      "execution_count": null,
      "outputs": [
        {
          "output_type": "execute_result",
          "data": {
            "text/plain": [
              "array([[191,   2],\n",
              "       [  6,  17]])"
            ]
          },
          "metadata": {
            "tags": []
          },
          "execution_count": 170
        }
      ]
    },
    {
      "cell_type": "code",
      "metadata": {
        "colab": {
          "base_uri": "https://localhost:8080/",
          "height": 457
        },
        "id": "BvDdfSsiWU_9",
        "outputId": "fdfccee7-11fa-4028-e20b-c97b690124f6"
      },
      "source": [
        "class_names=[0,1] \n",
        "fig, ax = plt.subplots(figsize=(6, 6))\n",
        "tick_marks = np.arange(len(class_names))\n",
        "plt.xticks(tick_marks, class_names)\n",
        "plt.yticks(tick_marks, class_names)\n",
        "\n",
        "sns.heatmap(pd.DataFrame(conf_matrix_forest_2), annot=True, cmap=\"Blues\" ,fmt='g', cbar=False, annot_kws={\"size\": 20})\n",
        "ax.xaxis.set_label_position(\"top\")\n",
        "plt.tight_layout()\n",
        "plt.ylabel('Realidad', fontsize=15, y=0.5)\n",
        "plt.xlabel('Estimado por el modelo', fontsize=15);"
      ],
      "execution_count": null,
      "outputs": [
        {
          "output_type": "display_data",
          "data": {
            "image/png": "[encoded data removed]",
            "text/plain": [
              "<Figure size 432x432 with 1 Axes>"
            ]
          },
          "metadata": {
            "tags": [],
            "needs_background": "light"
          }
        }
      ]
    },
    {
      "cell_type": "code",
      "metadata": {
        "colab": {
          "base_uri": "https://localhost:8080/"
        },
        "id": "yzd2v_1mJbWF",
        "outputId": "abcd4ac2-38e9-46f2-f4e1-0037d43798da"
      },
      "source": [
        "print(metrics.classification_report(y_test, y_predict_forest))"
      ],
      "execution_count": null,
      "outputs": [
        {
          "output_type": "stream",
          "text": [
            "              precision    recall  f1-score   support\n",
            "\n",
            "           0       0.97      0.99      0.98       193\n",
            "           1       0.89      0.74      0.81        23\n",
            "\n",
            "    accuracy                           0.96       216\n",
            "   macro avg       0.93      0.86      0.89       216\n",
            "weighted avg       0.96      0.96      0.96       216\n",
            "\n"
          ],
          "name": "stdout"
        }
      ]
    },
    {
      "cell_type": "markdown",
      "metadata": {
        "id": "7vAcHgUlLX5A"
      },
      "source": [
        "RB Tiguan (Metallic) 2T Deep Black"
      ]
    },
    {
      "cell_type": "code",
      "metadata": {
        "id": "OY0_NbhfLlsy"
      },
      "source": [
        "df_robots_3 = df.loc[:,'Resin_R1_PR':'Evaluacion']"
      ],
      "execution_count": null,
      "outputs": []
    },
    {
      "cell_type": "code",
      "metadata": {
        "id": "y2xzi0gtLls1"
      },
      "source": [
        "df_robots_3 = df_robots_3[(df_robots_3[\"JobName\"] == \"RB Tiguan (Metallic)\") & (df_robots_3[\"ColorName\"] == \"2T Deep Black\")]"
      ],
      "execution_count": null,
      "outputs": []
    },
    {
      "cell_type": "code",
      "metadata": {
        "id": "DIuQqgBpLls3"
      },
      "source": [
        "df_robots_3 = df_robots_3.drop(columns = [\"Week\",\"Year\",\"JobName\",\"ColorName\"])"
      ],
      "execution_count": null,
      "outputs": []
    },
    {
      "cell_type": "code",
      "metadata": {
        "colab": {
          "base_uri": "https://localhost:8080/",
          "height": 224
        },
        "id": "VrZ8usXkLls4",
        "outputId": "600a3675-d1ab-4f61-8b8e-8d27238f4120"
      },
      "source": [
        "df_robots_3.head()"
      ],
      "execution_count": null,
      "outputs": [
        {
          "output_type": "execute_result",
          "data": {
            "text/html": [
              "<div>\n",
              "<style scoped>\n",
              "    .dataframe tbody tr th:only-of-type {\n",
              "        vertical-align: middle;\n",
              "    }\n",
              "\n",
              "    .dataframe tbody tr th {\n",
              "        vertical-align: top;\n",
              "    }\n",
              "\n",
              "    .dataframe thead th {\n",
              "        text-align: right;\n",
              "    }\n",
              "</style>\n",
              "<table border=\"1\" class=\"dataframe\">\n",
              "  <thead>\n",
              "    <tr style=\"text-align: right;\">\n",
              "      <th></th>\n",
              "      <th>Resin_R1_PR</th>\n",
              "      <th>Resin_R2_PR</th>\n",
              "      <th>Hardener_R1_PR</th>\n",
              "      <th>Hardener_R2_PR</th>\n",
              "      <th>Resin_R1_BC</th>\n",
              "      <th>Resin_R2_BC</th>\n",
              "      <th>Resin_R3_BC</th>\n",
              "      <th>Resin_R4_BC</th>\n",
              "      <th>Resin_R5_BC</th>\n",
              "      <th>Resin_R6_BC</th>\n",
              "      <th>Resin_R1_CC</th>\n",
              "      <th>Resin_R2_CC</th>\n",
              "      <th>Resin_R3_CC</th>\n",
              "      <th>Resin_R4_CC</th>\n",
              "      <th>Hardener_R1_CC</th>\n",
              "      <th>Hardener_R2_CC</th>\n",
              "      <th>Hardener_R3_CC</th>\n",
              "      <th>Hardener_R4_CC</th>\n",
              "      <th>CO21</th>\n",
              "      <th>CO22</th>\n",
              "      <th>Evaluacion</th>\n",
              "    </tr>\n",
              "  </thead>\n",
              "  <tbody>\n",
              "    <tr>\n",
              "      <th>2226</th>\n",
              "      <td>213</td>\n",
              "      <td>213</td>\n",
              "      <td>20</td>\n",
              "      <td>20</td>\n",
              "      <td>106</td>\n",
              "      <td>150</td>\n",
              "      <td>216</td>\n",
              "      <td>213</td>\n",
              "      <td>254</td>\n",
              "      <td>244</td>\n",
              "      <td>79</td>\n",
              "      <td>69</td>\n",
              "      <td>121</td>\n",
              "      <td>137</td>\n",
              "      <td>36</td>\n",
              "      <td>33</td>\n",
              "      <td>59</td>\n",
              "      <td>66</td>\n",
              "      <td>46</td>\n",
              "      <td>54</td>\n",
              "      <td>0</td>\n",
              "    </tr>\n",
              "    <tr>\n",
              "      <th>2227</th>\n",
              "      <td>213</td>\n",
              "      <td>214</td>\n",
              "      <td>20</td>\n",
              "      <td>20</td>\n",
              "      <td>111</td>\n",
              "      <td>97</td>\n",
              "      <td>216</td>\n",
              "      <td>214</td>\n",
              "      <td>249</td>\n",
              "      <td>242</td>\n",
              "      <td>72</td>\n",
              "      <td>70</td>\n",
              "      <td>123</td>\n",
              "      <td>139</td>\n",
              "      <td>33</td>\n",
              "      <td>33</td>\n",
              "      <td>56</td>\n",
              "      <td>66</td>\n",
              "      <td>47</td>\n",
              "      <td>47</td>\n",
              "      <td>0</td>\n",
              "    </tr>\n",
              "    <tr>\n",
              "      <th>2228</th>\n",
              "      <td>215</td>\n",
              "      <td>214</td>\n",
              "      <td>20</td>\n",
              "      <td>20</td>\n",
              "      <td>90</td>\n",
              "      <td>99</td>\n",
              "      <td>218</td>\n",
              "      <td>214</td>\n",
              "      <td>253</td>\n",
              "      <td>244</td>\n",
              "      <td>72</td>\n",
              "      <td>72</td>\n",
              "      <td>130</td>\n",
              "      <td>146</td>\n",
              "      <td>33</td>\n",
              "      <td>33</td>\n",
              "      <td>59</td>\n",
              "      <td>69</td>\n",
              "      <td>41</td>\n",
              "      <td>46</td>\n",
              "      <td>0</td>\n",
              "    </tr>\n",
              "    <tr>\n",
              "      <th>2229</th>\n",
              "      <td>213</td>\n",
              "      <td>213</td>\n",
              "      <td>20</td>\n",
              "      <td>20</td>\n",
              "      <td>91</td>\n",
              "      <td>99</td>\n",
              "      <td>216</td>\n",
              "      <td>213</td>\n",
              "      <td>254</td>\n",
              "      <td>245</td>\n",
              "      <td>72</td>\n",
              "      <td>72</td>\n",
              "      <td>129</td>\n",
              "      <td>147</td>\n",
              "      <td>33</td>\n",
              "      <td>33</td>\n",
              "      <td>59</td>\n",
              "      <td>69</td>\n",
              "      <td>42</td>\n",
              "      <td>48</td>\n",
              "      <td>0</td>\n",
              "    </tr>\n",
              "    <tr>\n",
              "      <th>2230</th>\n",
              "      <td>215</td>\n",
              "      <td>212</td>\n",
              "      <td>20</td>\n",
              "      <td>20</td>\n",
              "      <td>93</td>\n",
              "      <td>100</td>\n",
              "      <td>216</td>\n",
              "      <td>213</td>\n",
              "      <td>252</td>\n",
              "      <td>242</td>\n",
              "      <td>71</td>\n",
              "      <td>71</td>\n",
              "      <td>130</td>\n",
              "      <td>147</td>\n",
              "      <td>33</td>\n",
              "      <td>33</td>\n",
              "      <td>59</td>\n",
              "      <td>69</td>\n",
              "      <td>40</td>\n",
              "      <td>43</td>\n",
              "      <td>0</td>\n",
              "    </tr>\n",
              "  </tbody>\n",
              "</table>\n",
              "</div>"
            ],
            "text/plain": [
              "      Resin_R1_PR  Resin_R2_PR  Hardener_R1_PR  ...  CO21  CO22  Evaluacion\n",
              "2226          213          213              20  ...    46    54           0\n",
              "2227          213          214              20  ...    47    47           0\n",
              "2228          215          214              20  ...    41    46           0\n",
              "2229          213          213              20  ...    42    48           0\n",
              "2230          215          212              20  ...    40    43           0\n",
              "\n",
              "[5 rows x 21 columns]"
            ]
          },
          "metadata": {
            "tags": []
          },
          "execution_count": 176
        }
      ]
    },
    {
      "cell_type": "code",
      "metadata": {
        "id": "Y0O57nP_Lls7"
      },
      "source": [
        "X = df_robots_3.loc[:,'Resin_R1_PR':'CO22']\n",
        "y = df_robots_3['Evaluacion']"
      ],
      "execution_count": null,
      "outputs": []
    },
    {
      "cell_type": "code",
      "metadata": {
        "id": "Z9Nlsf8aLls9"
      },
      "source": [
        "X_train, X_test, y_train, y_test = train_test_split(X, y, test_size=0.33)"
      ],
      "execution_count": null,
      "outputs": []
    },
    {
      "cell_type": "markdown",
      "metadata": {
        "id": "PY9w-dm7Wfrf"
      },
      "source": [
        "Regresión Logistica"
      ]
    },
    {
      "cell_type": "code",
      "metadata": {
        "id": "Pt6n0aVvLltB"
      },
      "source": [
        "lg = LogisticRegression()"
      ],
      "execution_count": null,
      "outputs": []
    },
    {
      "cell_type": "code",
      "metadata": {
        "colab": {
          "base_uri": "https://localhost:8080/"
        },
        "id": "8mOWNMhVLltF",
        "outputId": "17f16300-20c7-40f7-c58a-8bc8cb28bbe4"
      },
      "source": [
        "lg.fit(X_train, y_train)"
      ],
      "execution_count": null,
      "outputs": [
        {
          "output_type": "stream",
          "text": [
            "/usr/local/lib/python3.7/dist-packages/sklearn/linear_model/_logistic.py:940: ConvergenceWarning: lbfgs failed to converge (status=1):\n",
            "STOP: TOTAL NO. of ITERATIONS REACHED LIMIT.\n",
            "\n",
            "Increase the number of iterations (max_iter) or scale the data as shown in:\n",
            "    https://scikit-learn.org/stable/modules/preprocessing.html\n",
            "Please also refer to the documentation for alternative solver options:\n",
            "    https://scikit-learn.org/stable/modules/linear_model.html#logistic-regression\n",
            "  extra_warning_msg=_LOGISTIC_SOLVER_CONVERGENCE_MSG)\n"
          ],
          "name": "stderr"
        },
        {
          "output_type": "execute_result",
          "data": {
            "text/plain": [
              "LogisticRegression(C=1.0, class_weight=None, dual=False, fit_intercept=True,\n",
              "                   intercept_scaling=1, l1_ratio=None, max_iter=100,\n",
              "                   multi_class='auto', n_jobs=None, penalty='l2',\n",
              "                   random_state=None, solver='lbfgs', tol=0.0001, verbose=0,\n",
              "                   warm_start=False)"
            ]
          },
          "metadata": {
            "tags": []
          },
          "execution_count": 180
        }
      ]
    },
    {
      "cell_type": "code",
      "metadata": {
        "id": "npKfu1NRLluY"
      },
      "source": [
        "y_predict = lg.predict(X_test)"
      ],
      "execution_count": null,
      "outputs": []
    },
    {
      "cell_type": "code",
      "metadata": {
        "colab": {
          "base_uri": "https://localhost:8080/"
        },
        "id": "5IyvOTAcLluZ",
        "outputId": "0898254c-1d30-4288-a31a-a49e6dd89f9f"
      },
      "source": [
        "score = lg.score(X_test, y_test)\n",
        "score"
      ],
      "execution_count": null,
      "outputs": [
        {
          "output_type": "execute_result",
          "data": {
            "text/plain": [
              "0.9467213114754098"
            ]
          },
          "metadata": {
            "tags": []
          },
          "execution_count": 182
        }
      ]
    },
    {
      "cell_type": "code",
      "metadata": {
        "colab": {
          "base_uri": "https://localhost:8080/"
        },
        "id": "jV5utfmcLluf",
        "outputId": "8fe03ba8-893a-461f-e454-2428b331e8b8"
      },
      "source": [
        "lg.coef_"
      ],
      "execution_count": null,
      "outputs": [
        {
          "output_type": "execute_result",
          "data": {
            "text/plain": [
              "array([[ 0.14075153, -0.02215398,  0.02649057,  0.01026419,  0.18234085,\n",
              "        -0.08262043, -0.01160404,  0.05547842, -0.10412228,  0.01732589,\n",
              "         0.12923007,  0.18153399, -0.08882999, -0.0165769 , -0.27534428,\n",
              "        -0.35361478, -0.06686055, -0.15724334, -0.04926869,  0.04560493]])"
            ]
          },
          "metadata": {
            "tags": []
          },
          "execution_count": 183
        }
      ]
    },
    {
      "cell_type": "code",
      "metadata": {
        "colab": {
          "base_uri": "https://localhost:8080/"
        },
        "id": "X0WOi23PLluc",
        "outputId": "54d22ab0-19cd-40ea-ec2b-f1b3ca7c8e5a"
      },
      "source": [
        "conf_matrix_lg_3 = metrics.confusion_matrix(y_test, y_predict)\n",
        "conf_matrix_lg_3"
      ],
      "execution_count": null,
      "outputs": [
        {
          "output_type": "execute_result",
          "data": {
            "text/plain": [
              "array([[225,   5],\n",
              "       [  8,   6]])"
            ]
          },
          "metadata": {
            "tags": []
          },
          "execution_count": 184
        }
      ]
    },
    {
      "cell_type": "code",
      "metadata": {
        "colab": {
          "base_uri": "https://localhost:8080/",
          "height": 457
        },
        "id": "KM4BhtxkXYzQ",
        "outputId": "fd53d3d2-34af-4bde-e3be-3de718c527ea"
      },
      "source": [
        "class_names=[0,1] \n",
        "fig, ax = plt.subplots(figsize=(6, 6))\n",
        "tick_marks = np.arange(len(class_names))\n",
        "plt.xticks(tick_marks, class_names)\n",
        "plt.yticks(tick_marks, class_names)\n",
        "\n",
        "sns.heatmap(pd.DataFrame(conf_matrix_lg_3), annot=True, cmap=\"Blues\" ,fmt='g', cbar=False, annot_kws={\"size\": 20})\n",
        "ax.xaxis.set_label_position(\"top\")\n",
        "plt.tight_layout()\n",
        "plt.ylabel('Realidad', fontsize=15, y=0.5)\n",
        "plt.xlabel('Estimado por el modelo', fontsize=15);"
      ],
      "execution_count": null,
      "outputs": [
        {
          "output_type": "display_data",
          "data": {
            "image/png": "[encoded data removed]",
            "text/plain": [
              "<Figure size 432x432 with 1 Axes>"
            ]
          },
          "metadata": {
            "tags": [],
            "needs_background": "light"
          }
        }
      ]
    },
    {
      "cell_type": "code",
      "metadata": {
        "colab": {
          "base_uri": "https://localhost:8080/"
        },
        "id": "L2rsmQs8Llue",
        "outputId": "91a804b2-77b8-4c1f-ef69-398550312ba4"
      },
      "source": [
        "print(metrics.classification_report(y_test, y_predict))"
      ],
      "execution_count": null,
      "outputs": [
        {
          "output_type": "stream",
          "text": [
            "              precision    recall  f1-score   support\n",
            "\n",
            "           0       0.97      0.98      0.97       230\n",
            "           1       0.55      0.43      0.48        14\n",
            "\n",
            "    accuracy                           0.95       244\n",
            "   macro avg       0.76      0.70      0.73       244\n",
            "weighted avg       0.94      0.95      0.94       244\n",
            "\n"
          ],
          "name": "stdout"
        }
      ]
    },
    {
      "cell_type": "markdown",
      "metadata": {
        "id": "J6XdRpB5Xnfn"
      },
      "source": [
        "Random Forest"
      ]
    },
    {
      "cell_type": "code",
      "metadata": {
        "id": "3lxw0MuGLltD"
      },
      "source": [
        "rf = RandomForestClassifier()"
      ],
      "execution_count": null,
      "outputs": []
    },
    {
      "cell_type": "code",
      "metadata": {
        "colab": {
          "base_uri": "https://localhost:8080/"
        },
        "id": "RIzaS_OjLltH",
        "outputId": "a3b497cf-e046-4e00-99ef-267e55a7d362"
      },
      "source": [
        "rf.fit(X_train, y_train)"
      ],
      "execution_count": null,
      "outputs": [
        {
          "output_type": "execute_result",
          "data": {
            "text/plain": [
              "RandomForestClassifier(bootstrap=True, ccp_alpha=0.0, class_weight=None,\n",
              "                       criterion='gini', max_depth=None, max_features='auto',\n",
              "                       max_leaf_nodes=None, max_samples=None,\n",
              "                       min_impurity_decrease=0.0, min_impurity_split=None,\n",
              "                       min_samples_leaf=1, min_samples_split=2,\n",
              "                       min_weight_fraction_leaf=0.0, n_estimators=100,\n",
              "                       n_jobs=None, oob_score=False, random_state=None,\n",
              "                       verbose=0, warm_start=False)"
            ]
          },
          "metadata": {
            "tags": []
          },
          "execution_count": 188
        }
      ]
    },
    {
      "cell_type": "code",
      "metadata": {
        "colab": {
          "base_uri": "https://localhost:8080/"
        },
        "id": "OkwySkN1LluT",
        "outputId": "9d3689d9-755f-46dc-d533-a52c998f269e"
      },
      "source": [
        "rf.score(X_test, y_test)"
      ],
      "execution_count": null,
      "outputs": [
        {
          "output_type": "execute_result",
          "data": {
            "text/plain": [
              "0.9713114754098361"
            ]
          },
          "metadata": {
            "tags": []
          },
          "execution_count": 189
        }
      ]
    },
    {
      "cell_type": "code",
      "metadata": {
        "id": "T6utrmFVLluX"
      },
      "source": [
        "y_predict_forest = rf.predict(X_test)"
      ],
      "execution_count": null,
      "outputs": []
    },
    {
      "cell_type": "code",
      "metadata": {
        "colab": {
          "base_uri": "https://localhost:8080/"
        },
        "id": "LyyBk6aiXtC8",
        "outputId": "9ec3a47d-c59d-418d-d3b9-27bb4746992a"
      },
      "source": [
        "conf_matrix_forest_3  = metrics.confusion_matrix(y_test, y_predict_forest)\n",
        "conf_matrix_forest_3"
      ],
      "execution_count": null,
      "outputs": [
        {
          "output_type": "execute_result",
          "data": {
            "text/plain": [
              "array([[228,   2],\n",
              "       [  5,   9]])"
            ]
          },
          "metadata": {
            "tags": []
          },
          "execution_count": 191
        }
      ]
    },
    {
      "cell_type": "code",
      "metadata": {
        "colab": {
          "base_uri": "https://localhost:8080/",
          "height": 457
        },
        "id": "Mm-Y4O4eXtDF",
        "outputId": "16f1a228-0b06-44f8-ff7c-c5220a1e81fa"
      },
      "source": [
        "class_names=[0,1] \n",
        "fig, ax = plt.subplots(figsize=(6, 6))\n",
        "tick_marks = np.arange(len(class_names))\n",
        "plt.xticks(tick_marks, class_names)\n",
        "plt.yticks(tick_marks, class_names)\n",
        "\n",
        "sns.heatmap(pd.DataFrame(conf_matrix_forest_3), annot=True, cmap=\"Blues\" ,fmt='g', cbar=False, annot_kws={\"size\": 20})\n",
        "ax.xaxis.set_label_position(\"top\")\n",
        "plt.tight_layout()\n",
        "plt.ylabel('Realidad', fontsize=15, y=0.5)\n",
        "plt.xlabel('Estimado por el modelo', fontsize=15);"
      ],
      "execution_count": null,
      "outputs": [
        {
          "output_type": "display_data",
          "data": {
            "image/png": "[encoded data removed]",
            "text/plain": [
              "<Figure size 432x432 with 1 Axes>"
            ]
          },
          "metadata": {
            "tags": [],
            "needs_background": "light"
          }
        }
      ]
    },
    {
      "cell_type": "code",
      "metadata": {
        "colab": {
          "base_uri": "https://localhost:8080/"
        },
        "id": "sqPD8r-hLluh",
        "outputId": "34db122c-edc3-4d25-8edc-a32ca078d24b"
      },
      "source": [
        "print(metrics.classification_report(y_test, y_predict_forest))"
      ],
      "execution_count": null,
      "outputs": [
        {
          "output_type": "stream",
          "text": [
            "              precision    recall  f1-score   support\n",
            "\n",
            "           0       0.98      0.99      0.98       230\n",
            "           1       0.82      0.64      0.72        14\n",
            "\n",
            "    accuracy                           0.97       244\n",
            "   macro avg       0.90      0.82      0.85       244\n",
            "weighted avg       0.97      0.97      0.97       244\n",
            "\n"
          ],
          "name": "stdout"
        }
      ]
    },
    {
      "cell_type": "markdown",
      "metadata": {
        "id": "vYXQwjMoM1Go"
      },
      "source": [
        "RB Tiguan (Solid) 0Q Pure White"
      ]
    },
    {
      "cell_type": "code",
      "metadata": {
        "id": "zewmnoFGM_LB"
      },
      "source": [
        "df_robots_4 = df.loc[:,'Resin_R1_PR':'Evaluacion']"
      ],
      "execution_count": null,
      "outputs": []
    },
    {
      "cell_type": "code",
      "metadata": {
        "id": "zlmkj4JAM_LE"
      },
      "source": [
        "df_robots_4 = df_robots_4[(df_robots_4[\"JobName\"] == \"RB Tiguan (Solid)\") & (df_robots_4[\"ColorName\"] == \"0Q Pure White\")]"
      ],
      "execution_count": null,
      "outputs": []
    },
    {
      "cell_type": "code",
      "metadata": {
        "id": "C0dXArXhM_LG"
      },
      "source": [
        "df_robots_4 = df_robots_4.drop(columns = [\"Week\",\"Year\",\"JobName\",\"ColorName\"])"
      ],
      "execution_count": null,
      "outputs": []
    },
    {
      "cell_type": "code",
      "metadata": {
        "colab": {
          "base_uri": "https://localhost:8080/",
          "height": 224
        },
        "id": "krfEsRkzM_LI",
        "outputId": "876b5c06-5766-4027-b350-b3742986d4b4"
      },
      "source": [
        "df_robots_4.head()"
      ],
      "execution_count": null,
      "outputs": [
        {
          "output_type": "execute_result",
          "data": {
            "text/html": [
              "<div>\n",
              "<style scoped>\n",
              "    .dataframe tbody tr th:only-of-type {\n",
              "        vertical-align: middle;\n",
              "    }\n",
              "\n",
              "    .dataframe tbody tr th {\n",
              "        vertical-align: top;\n",
              "    }\n",
              "\n",
              "    .dataframe thead th {\n",
              "        text-align: right;\n",
              "    }\n",
              "</style>\n",
              "<table border=\"1\" class=\"dataframe\">\n",
              "  <thead>\n",
              "    <tr style=\"text-align: right;\">\n",
              "      <th></th>\n",
              "      <th>Resin_R1_PR</th>\n",
              "      <th>Resin_R2_PR</th>\n",
              "      <th>Hardener_R1_PR</th>\n",
              "      <th>Hardener_R2_PR</th>\n",
              "      <th>Resin_R1_BC</th>\n",
              "      <th>Resin_R2_BC</th>\n",
              "      <th>Resin_R3_BC</th>\n",
              "      <th>Resin_R4_BC</th>\n",
              "      <th>Resin_R5_BC</th>\n",
              "      <th>Resin_R6_BC</th>\n",
              "      <th>Resin_R1_CC</th>\n",
              "      <th>Resin_R2_CC</th>\n",
              "      <th>Resin_R3_CC</th>\n",
              "      <th>Resin_R4_CC</th>\n",
              "      <th>Hardener_R1_CC</th>\n",
              "      <th>Hardener_R2_CC</th>\n",
              "      <th>Hardener_R3_CC</th>\n",
              "      <th>Hardener_R4_CC</th>\n",
              "      <th>CO21</th>\n",
              "      <th>CO22</th>\n",
              "      <th>Evaluacion</th>\n",
              "    </tr>\n",
              "  </thead>\n",
              "  <tbody>\n",
              "    <tr>\n",
              "      <th>653</th>\n",
              "      <td>213</td>\n",
              "      <td>213</td>\n",
              "      <td>20</td>\n",
              "      <td>20</td>\n",
              "      <td>106</td>\n",
              "      <td>113</td>\n",
              "      <td>198</td>\n",
              "      <td>214</td>\n",
              "      <td>223</td>\n",
              "      <td>227</td>\n",
              "      <td>83</td>\n",
              "      <td>81</td>\n",
              "      <td>149</td>\n",
              "      <td>154</td>\n",
              "      <td>36</td>\n",
              "      <td>39</td>\n",
              "      <td>69</td>\n",
              "      <td>73</td>\n",
              "      <td>43</td>\n",
              "      <td>46</td>\n",
              "      <td>0</td>\n",
              "    </tr>\n",
              "    <tr>\n",
              "      <th>654</th>\n",
              "      <td>216</td>\n",
              "      <td>212</td>\n",
              "      <td>20</td>\n",
              "      <td>20</td>\n",
              "      <td>106</td>\n",
              "      <td>114</td>\n",
              "      <td>197</td>\n",
              "      <td>217</td>\n",
              "      <td>224</td>\n",
              "      <td>229</td>\n",
              "      <td>85</td>\n",
              "      <td>87</td>\n",
              "      <td>154</td>\n",
              "      <td>161</td>\n",
              "      <td>39</td>\n",
              "      <td>39</td>\n",
              "      <td>73</td>\n",
              "      <td>79</td>\n",
              "      <td>55</td>\n",
              "      <td>64</td>\n",
              "      <td>0</td>\n",
              "    </tr>\n",
              "    <tr>\n",
              "      <th>655</th>\n",
              "      <td>213</td>\n",
              "      <td>214</td>\n",
              "      <td>20</td>\n",
              "      <td>20</td>\n",
              "      <td>106</td>\n",
              "      <td>115</td>\n",
              "      <td>197</td>\n",
              "      <td>216</td>\n",
              "      <td>223</td>\n",
              "      <td>229</td>\n",
              "      <td>87</td>\n",
              "      <td>86</td>\n",
              "      <td>154</td>\n",
              "      <td>162</td>\n",
              "      <td>39</td>\n",
              "      <td>39</td>\n",
              "      <td>73</td>\n",
              "      <td>76</td>\n",
              "      <td>56</td>\n",
              "      <td>61</td>\n",
              "      <td>0</td>\n",
              "    </tr>\n",
              "    <tr>\n",
              "      <th>656</th>\n",
              "      <td>214</td>\n",
              "      <td>212</td>\n",
              "      <td>20</td>\n",
              "      <td>20</td>\n",
              "      <td>107</td>\n",
              "      <td>112</td>\n",
              "      <td>197</td>\n",
              "      <td>215</td>\n",
              "      <td>223</td>\n",
              "      <td>227</td>\n",
              "      <td>83</td>\n",
              "      <td>81</td>\n",
              "      <td>149</td>\n",
              "      <td>150</td>\n",
              "      <td>36</td>\n",
              "      <td>39</td>\n",
              "      <td>69</td>\n",
              "      <td>73</td>\n",
              "      <td>43</td>\n",
              "      <td>46</td>\n",
              "      <td>0</td>\n",
              "    </tr>\n",
              "    <tr>\n",
              "      <th>657</th>\n",
              "      <td>213</td>\n",
              "      <td>212</td>\n",
              "      <td>20</td>\n",
              "      <td>20</td>\n",
              "      <td>105</td>\n",
              "      <td>113</td>\n",
              "      <td>196</td>\n",
              "      <td>213</td>\n",
              "      <td>225</td>\n",
              "      <td>227</td>\n",
              "      <td>83</td>\n",
              "      <td>81</td>\n",
              "      <td>147</td>\n",
              "      <td>152</td>\n",
              "      <td>36</td>\n",
              "      <td>39</td>\n",
              "      <td>69</td>\n",
              "      <td>73</td>\n",
              "      <td>60</td>\n",
              "      <td>62</td>\n",
              "      <td>0</td>\n",
              "    </tr>\n",
              "  </tbody>\n",
              "</table>\n",
              "</div>"
            ],
            "text/plain": [
              "     Resin_R1_PR  Resin_R2_PR  Hardener_R1_PR  ...  CO21  CO22  Evaluacion\n",
              "653          213          213              20  ...    43    46           0\n",
              "654          216          212              20  ...    55    64           0\n",
              "655          213          214              20  ...    56    61           0\n",
              "656          214          212              20  ...    43    46           0\n",
              "657          213          212              20  ...    60    62           0\n",
              "\n",
              "[5 rows x 21 columns]"
            ]
          },
          "metadata": {
            "tags": []
          },
          "execution_count": 197
        }
      ]
    },
    {
      "cell_type": "code",
      "metadata": {
        "id": "ZQpAQB_BM_LL"
      },
      "source": [
        "X = df_robots_4.loc[:,'Resin_R1_PR':'CO22']\n",
        "y = df_robots_4['Evaluacion']"
      ],
      "execution_count": null,
      "outputs": []
    },
    {
      "cell_type": "code",
      "metadata": {
        "id": "T2FDt6DUM_LN"
      },
      "source": [
        "X_train, X_test, y_train, y_test = train_test_split(X, y, test_size=0.33)"
      ],
      "execution_count": null,
      "outputs": []
    },
    {
      "cell_type": "markdown",
      "metadata": {
        "id": "JBVi08Z4X5V1"
      },
      "source": [
        "Regresión Logistica"
      ]
    },
    {
      "cell_type": "code",
      "metadata": {
        "id": "OEaPLuhoM_LR"
      },
      "source": [
        "lg = LogisticRegression()"
      ],
      "execution_count": null,
      "outputs": []
    },
    {
      "cell_type": "code",
      "metadata": {
        "colab": {
          "base_uri": "https://localhost:8080/"
        },
        "id": "L_VkmEaQM_LV",
        "outputId": "f39bfdeb-b165-4ebb-c97e-4b8fb15b91fd"
      },
      "source": [
        "lg.fit(X_train, y_train)"
      ],
      "execution_count": null,
      "outputs": [
        {
          "output_type": "stream",
          "text": [
            "/usr/local/lib/python3.7/dist-packages/sklearn/linear_model/_logistic.py:940: ConvergenceWarning: lbfgs failed to converge (status=1):\n",
            "STOP: TOTAL NO. of ITERATIONS REACHED LIMIT.\n",
            "\n",
            "Increase the number of iterations (max_iter) or scale the data as shown in:\n",
            "    https://scikit-learn.org/stable/modules/preprocessing.html\n",
            "Please also refer to the documentation for alternative solver options:\n",
            "    https://scikit-learn.org/stable/modules/linear_model.html#logistic-regression\n",
            "  extra_warning_msg=_LOGISTIC_SOLVER_CONVERGENCE_MSG)\n"
          ],
          "name": "stderr"
        },
        {
          "output_type": "execute_result",
          "data": {
            "text/plain": [
              "LogisticRegression(C=1.0, class_weight=None, dual=False, fit_intercept=True,\n",
              "                   intercept_scaling=1, l1_ratio=None, max_iter=100,\n",
              "                   multi_class='auto', n_jobs=None, penalty='l2',\n",
              "                   random_state=None, solver='lbfgs', tol=0.0001, verbose=0,\n",
              "                   warm_start=False)"
            ]
          },
          "metadata": {
            "tags": []
          },
          "execution_count": 201
        }
      ]
    },
    {
      "cell_type": "code",
      "metadata": {
        "id": "K2Rc-vy6M_Lc"
      },
      "source": [
        "y_predict = lg.predict(X_test)"
      ],
      "execution_count": null,
      "outputs": []
    },
    {
      "cell_type": "code",
      "metadata": {
        "colab": {
          "base_uri": "https://localhost:8080/"
        },
        "id": "do2_QVPYM_Le",
        "outputId": "5bb183f7-21d9-4d6f-cfa7-37a1d2fe6d45"
      },
      "source": [
        "score = lg.score(X_test, y_test)\n",
        "score"
      ],
      "execution_count": null,
      "outputs": [
        {
          "output_type": "execute_result",
          "data": {
            "text/plain": [
              "0.9517241379310345"
            ]
          },
          "metadata": {
            "tags": []
          },
          "execution_count": 203
        }
      ]
    },
    {
      "cell_type": "code",
      "metadata": {
        "colab": {
          "base_uri": "https://localhost:8080/"
        },
        "id": "6mb9ummtM_Lk",
        "outputId": "da55a039-52c0-4f43-e1c4-dfa579df7375"
      },
      "source": [
        "lg.coef_"
      ],
      "execution_count": null,
      "outputs": [
        {
          "output_type": "execute_result",
          "data": {
            "text/plain": [
              "array([[ 3.41147240e-02,  2.03562234e-02, -5.63987799e-05,\n",
              "         1.46018892e-03,  7.26543938e-02, -2.42362751e-02,\n",
              "        -8.05051442e-02,  6.13412880e-02, -4.67949211e-02,\n",
              "         1.60346114e-01,  8.47743387e-02, -1.74380062e-02,\n",
              "        -6.38323350e-02,  2.51563444e-02, -1.39775788e-01,\n",
              "        -1.02046644e-01, -1.74955593e-01, -3.36575343e-01,\n",
              "         3.10352893e-02,  2.11766723e-03]])"
            ]
          },
          "metadata": {
            "tags": []
          },
          "execution_count": 204
        }
      ]
    },
    {
      "cell_type": "code",
      "metadata": {
        "colab": {
          "base_uri": "https://localhost:8080/"
        },
        "id": "62c-BBkGM_Lh",
        "outputId": "e69ece77-9da1-48c8-fc9f-cfbc3aa2465a"
      },
      "source": [
        "conf_matrix_lg_4 = metrics.confusion_matrix(y_test, y_predict)\n",
        "conf_matrix_lg_4"
      ],
      "execution_count": null,
      "outputs": [
        {
          "output_type": "execute_result",
          "data": {
            "text/plain": [
              "array([[273,   1],\n",
              "       [ 13,   3]])"
            ]
          },
          "metadata": {
            "tags": []
          },
          "execution_count": 205
        }
      ]
    },
    {
      "cell_type": "code",
      "metadata": {
        "colab": {
          "base_uri": "https://localhost:8080/",
          "height": 457
        },
        "id": "heFjCuFrYXG1",
        "outputId": "fad75bc5-7fff-46b6-8844-abdf85547f32"
      },
      "source": [
        "class_names=[0,1] \n",
        "fig, ax = plt.subplots(figsize=(6, 6))\n",
        "tick_marks = np.arange(len(class_names))\n",
        "plt.xticks(tick_marks, class_names)\n",
        "plt.yticks(tick_marks, class_names)\n",
        "\n",
        "sns.heatmap(pd.DataFrame(conf_matrix_lg_4), annot=True, cmap=\"Blues\" ,fmt='g', cbar=False, annot_kws={\"size\": 20})\n",
        "ax.xaxis.set_label_position(\"top\")\n",
        "plt.tight_layout()\n",
        "plt.ylabel('Realidad', fontsize=15, y=0.5)\n",
        "plt.xlabel('Estimado por el modelo', fontsize=15);"
      ],
      "execution_count": null,
      "outputs": [
        {
          "output_type": "display_data",
          "data": {
            "image/png": "[encoded data removed]",
            "text/plain": [
              "<Figure size 432x432 with 1 Axes>"
            ]
          },
          "metadata": {
            "tags": [],
            "needs_background": "light"
          }
        }
      ]
    },
    {
      "cell_type": "code",
      "metadata": {
        "colab": {
          "base_uri": "https://localhost:8080/"
        },
        "id": "ovFLgxkpM_Li",
        "outputId": "13b1804c-230b-4121-9b33-7b7fdbf2d1d9"
      },
      "source": [
        "print(metrics.classification_report(y_test, y_predict))"
      ],
      "execution_count": null,
      "outputs": [
        {
          "output_type": "stream",
          "text": [
            "              precision    recall  f1-score   support\n",
            "\n",
            "           0       0.95      1.00      0.97       274\n",
            "           1       0.75      0.19      0.30        16\n",
            "\n",
            "    accuracy                           0.95       290\n",
            "   macro avg       0.85      0.59      0.64       290\n",
            "weighted avg       0.94      0.95      0.94       290\n",
            "\n"
          ],
          "name": "stdout"
        }
      ]
    },
    {
      "cell_type": "markdown",
      "metadata": {
        "id": "P6FBI6scYeAt"
      },
      "source": [
        "Random Forest"
      ]
    },
    {
      "cell_type": "code",
      "metadata": {
        "id": "GDsHGhAJM_LT"
      },
      "source": [
        "rf = RandomForestClassifier()"
      ],
      "execution_count": null,
      "outputs": []
    },
    {
      "cell_type": "code",
      "metadata": {
        "colab": {
          "base_uri": "https://localhost:8080/"
        },
        "id": "PHFd8oqoM_LX",
        "outputId": "25c8875c-2e27-4824-b4c0-3fd54de32f38"
      },
      "source": [
        "rf.fit(X_train, y_train)"
      ],
      "execution_count": null,
      "outputs": [
        {
          "output_type": "execute_result",
          "data": {
            "text/plain": [
              "RandomForestClassifier(bootstrap=True, ccp_alpha=0.0, class_weight=None,\n",
              "                       criterion='gini', max_depth=None, max_features='auto',\n",
              "                       max_leaf_nodes=None, max_samples=None,\n",
              "                       min_impurity_decrease=0.0, min_impurity_split=None,\n",
              "                       min_samples_leaf=1, min_samples_split=2,\n",
              "                       min_weight_fraction_leaf=0.0, n_estimators=100,\n",
              "                       n_jobs=None, oob_score=False, random_state=None,\n",
              "                       verbose=0, warm_start=False)"
            ]
          },
          "metadata": {
            "tags": []
          },
          "execution_count": 209
        }
      ]
    },
    {
      "cell_type": "code",
      "metadata": {
        "colab": {
          "base_uri": "https://localhost:8080/"
        },
        "id": "uhfIy9VoM_LZ",
        "outputId": "5e0f1601-dec4-4523-86fd-41e0ef0bddd5"
      },
      "source": [
        "rf.score(X_test, y_test)"
      ],
      "execution_count": null,
      "outputs": [
        {
          "output_type": "execute_result",
          "data": {
            "text/plain": [
              "0.9551724137931035"
            ]
          },
          "metadata": {
            "tags": []
          },
          "execution_count": 210
        }
      ]
    },
    {
      "cell_type": "code",
      "metadata": {
        "id": "92Jm87qeM_Lb"
      },
      "source": [
        "y_predict_forest = rf.predict(X_test)"
      ],
      "execution_count": null,
      "outputs": []
    },
    {
      "cell_type": "code",
      "metadata": {
        "colab": {
          "base_uri": "https://localhost:8080/"
        },
        "id": "v0e6rx3SYork",
        "outputId": "d37ba032-0788-4e96-e94a-aeee7b3237f2"
      },
      "source": [
        "conf_matrix_forest_4  = metrics.confusion_matrix(y_test, y_predict_forest)\n",
        "conf_matrix_forest_4"
      ],
      "execution_count": null,
      "outputs": [
        {
          "output_type": "execute_result",
          "data": {
            "text/plain": [
              "array([[272,   2],\n",
              "       [ 11,   5]])"
            ]
          },
          "metadata": {
            "tags": []
          },
          "execution_count": 212
        }
      ]
    },
    {
      "cell_type": "code",
      "metadata": {
        "colab": {
          "base_uri": "https://localhost:8080/",
          "height": 457
        },
        "id": "mSWYd_iXYorp",
        "outputId": "da4d36e9-24ae-4f43-eb6c-169e01545e87"
      },
      "source": [
        "class_names=[0,1] \n",
        "fig, ax = plt.subplots(figsize=(6, 6))\n",
        "tick_marks = np.arange(len(class_names))\n",
        "plt.xticks(tick_marks, class_names)\n",
        "plt.yticks(tick_marks, class_names)\n",
        "\n",
        "sns.heatmap(pd.DataFrame(conf_matrix_forest_4), annot=True, cmap=\"Blues\" ,fmt='g', cbar=False, annot_kws={\"size\": 20})\n",
        "ax.xaxis.set_label_position(\"top\")\n",
        "plt.tight_layout()\n",
        "plt.ylabel('Realidad', fontsize=15, y=0.5)\n",
        "plt.xlabel('Estimado por el modelo', fontsize=15);"
      ],
      "execution_count": null,
      "outputs": [
        {
          "output_type": "display_data",
          "data": {
            "image/png": "[encoded data removed]",
            "text/plain": [
              "<Figure size 432x432 with 1 Axes>"
            ]
          },
          "metadata": {
            "tags": [],
            "needs_background": "light"
          }
        }
      ]
    },
    {
      "cell_type": "code",
      "metadata": {
        "colab": {
          "base_uri": "https://localhost:8080/"
        },
        "id": "JO_Vo_ZeM_Ll",
        "outputId": "37372e87-d4f6-48b3-b8db-e01f33020e49"
      },
      "source": [
        "print(metrics.classification_report(y_test, y_predict_forest))"
      ],
      "execution_count": null,
      "outputs": [
        {
          "output_type": "stream",
          "text": [
            "              precision    recall  f1-score   support\n",
            "\n",
            "           0       0.96      0.99      0.98       274\n",
            "           1       0.71      0.31      0.43        16\n",
            "\n",
            "    accuracy                           0.96       290\n",
            "   macro avg       0.84      0.65      0.71       290\n",
            "weighted avg       0.95      0.96      0.95       290\n",
            "\n"
          ],
          "name": "stdout"
        }
      ]
    }
  ]
}